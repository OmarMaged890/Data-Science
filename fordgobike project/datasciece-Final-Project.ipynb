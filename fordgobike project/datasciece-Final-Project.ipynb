{
 "cells": [
  {
   "cell_type": "markdown",
   "id": "58b74018",
   "metadata": {
    "execution": {
     "iopub.execute_input": "2022-07-09T14:25:43.577524Z",
     "iopub.status.busy": "2022-07-09T14:25:43.577125Z",
     "iopub.status.idle": "2022-07-09T14:25:43.583064Z",
     "shell.execute_reply": "2022-07-09T14:25:43.581948Z",
     "shell.execute_reply.started": "2022-07-09T14:25:43.577494Z"
    },
    "papermill": {
     "duration": 0.020455,
     "end_time": "2024-05-08T19:18:46.175321",
     "exception": false,
     "start_time": "2024-05-08T19:18:46.154866",
     "status": "completed"
    },
    "tags": []
   },
   "source": [
    "\n",
    "<div style=\"border-radius:10px;\n",
    "            border : #015a2c solid;\n",
    "            background-color:#D7D9DB;\n",
    "           font-size:110%;\n",
    "           letter-spacing:0.5px;\n",
    "            text-align: center\">\n",
    "​\n",
    "<center><h1 style=\"padding: 25px 0px; color:#015a4c; font-weight: bold; font-family: Cursive\">\n",
    "Amit Project for Data Science Module <br><br>💡💡💡💡💡 <br><br> AI Online 74  </h1></center>\n",
    "<center><h3 style=\"padding-bottom: 25px; color:#025b2c; font-weight: bold; font-style:italic; font-family: Cursive\">\n",
    "Using Project: Trip data Ford go bike  </h3></center>     \n",
    "​\n",
    "</div>"
   ]
  },
  {
   "cell_type": "markdown",
   "id": "8255d1c5",
   "metadata": {
    "papermill": {
     "duration": 0.019782,
     "end_time": "2024-05-08T19:18:46.214320",
     "exception": false,
     "start_time": "2024-05-08T19:18:46.194538",
     "status": "completed"
    },
    "tags": []
   },
   "source": [
    "# Part I - (Dataset Exploration for Ford GoBike)\n",
    "\n",
    "### worked by (Omar Maged/2024 )\n",
    "\n",
    "## Introduction\n",
    "\n",
    ".\n",
    "\n",
    "> **Let's introduce our dataset:**\n",
    "\n",
    "\n",
    "======================================\n",
    "\n",
    ".\n",
    "\n",
    "**This data set information was produced from `Ford GoBike` System** the information in it talked about individual rides that were made in a bike-sharing system for covering San Francisco Bay area.** \n",
    "\n",
    ".\n"
   ]
  },
  {
   "cell_type": "markdown",
   "id": "5da4edda",
   "metadata": {
    "papermill": {
     "duration": 0.018105,
     "end_time": "2024-05-08T19:18:46.251444",
     "exception": false,
     "start_time": "2024-05-08T19:18:46.233339",
     "status": "completed"
    },
    "tags": []
   },
   "source": [
    "\n",
    "\n",
    "> ## And here are the main exploring questions \n",
    "\n",
    "\n",
    "\n",
    "   **==================================================**\n",
    "\n",
    "\n",
    "\n",
    "- What is the structure of your dataset?\n",
    "\n",
    "\n",
    "- What are the main interesting features in the dataset?\n",
    "\n",
    "\n",
    "- What features in the dataset supported my investigation for these interesting features?\n",
    "\n",
    "\n",
    "\n",
    "\n",
    ".\n",
    "\n",
    "> ### Also here are the investigative questions classified into three types\n",
    "\n",
    "\n",
    "\n",
    "   **================================================**\n",
    "   \n",
    "   \n",
    "\n",
    "\n",
    "###  <a href='#011'> Univariate Exploration</a> \n",
    "\n",
    "- <a href='#1'> 1 ) . What is the distribution of `User type`?</a>  \n",
    "- <a href='#2'> 2 ) . What is the distribution for the `bike share users on all Trips`?</a>  \n",
    "- <a href='#3'> 3 ) . What is the distribution for users' `ages`?</a>  \n",
    "- <a href='#4'> 4 ) . Do the users' ages have `outlier` values?</a>\n",
    "- <a href='#5'> 5 ) . What is the distribution for the trip duration in `minutes`? </a>\n",
    "- <a href='#6'> 6) . What is the distribution for `member_gender`? </a>\n",
    "- <a href='#7'> 7) . What is the distribution for the trip duration in `Hours`?  </a>\n",
    "\n",
    "\n",
    "\n",
    "\n",
    "##  <a href='#111'> Bivariate Exploration</a> \n",
    "\n",
    "\n",
    "- <a href='#8'> 8 ) . What the `average duration` of trip for the categories of `user type`? </a>\n",
    "- <a href='#9'> 9 ) . How long is the duration of the trip for `each gender` in `minutes`? </a>\n",
    "- <a href='#10'> 10 ) . How long is the duration of the trip for each `user_type` in `minutes`?  </a>\n",
    "- <a href='#11'> 11 ) . How the user distribution depending on their `Age` and `user_type` ?</a>\n",
    "- <a href='#12'>12 ). How the user distribution depending on their `Age` and `member_gender` ?  </a>\n",
    "\n",
    "\n",
    "##  <a href='#1111'> Multivariate Exploration</a> \n",
    "\n",
    "\n",
    "- <a href='#13'> 13 ) . What is the Correlation between `each` variable in the dataset?</a>  \n",
    "- <a href='#14'> 14 ) . What is the Correlation between `specific numeric variables` in the dataset?</a>  \n",
    "- <a href='#15'> 15 ) . What is the  Correlation between `data_stat` variables in the dataset?</a>  \n",
    "\n",
    "\n",
    "##  <a href='#1100'> Conclusions </a> \n",
    "\n",
    "\n",
    "\n"
   ]
  },
  {
   "cell_type": "markdown",
   "id": "f600ad88",
   "metadata": {
    "papermill": {
     "duration": 0.018288,
     "end_time": "2024-05-08T19:18:46.353867",
     "exception": false,
     "start_time": "2024-05-08T19:18:46.335579",
     "status": "completed"
    },
    "tags": []
   },
   "source": [
    "# <p style=\"border-radius:15px;border-style:solid;border-color:lightblue;border-width:3px;background-color:lightblue;padding: 20px;font-family:Verdana;color:#D81F26;font-size:30px;text-align: center;\">Import Libraries</p>"
   ]
  },
  {
   "cell_type": "code",
   "execution_count": 1,
   "id": "be25aff1",
   "metadata": {
    "execution": {
     "iopub.execute_input": "2024-05-08T19:18:46.395860Z",
     "iopub.status.busy": "2024-05-08T19:18:46.394969Z",
     "iopub.status.idle": "2024-05-08T19:18:47.624619Z",
     "shell.execute_reply": "2024-05-08T19:18:47.623289Z"
    },
    "papermill": {
     "duration": 1.255463,
     "end_time": "2024-05-08T19:18:47.627956",
     "exception": false,
     "start_time": "2024-05-08T19:18:46.372493",
     "status": "completed"
    },
    "tags": []
   },
   "outputs": [],
   "source": [
    "import numpy as np # linear algebra\n",
    "import pandas as pd # data processing, CSV file I/O (e.g. pd.read_csv)\n",
    "import os\n",
    "import matplotlib.pyplot as plt\n",
    "import seaborn as sns\n",
    "%matplotlib inline"
   ]
  },
  {
   "cell_type": "code",
   "execution_count": 2,
   "id": "ca12f426",
   "metadata": {
    "execution": {
     "iopub.execute_input": "2024-05-08T19:18:47.668552Z",
     "iopub.status.busy": "2024-05-08T19:18:47.667822Z",
     "iopub.status.idle": "2024-05-08T19:18:48.581464Z",
     "shell.execute_reply": "2024-05-08T19:18:48.580158Z"
    },
    "papermill": {
     "duration": 0.937184,
     "end_time": "2024-05-08T19:18:48.584608",
     "exception": false,
     "start_time": "2024-05-08T19:18:47.647424",
     "status": "completed"
    },
    "tags": []
   },
   "outputs": [
    {
     "data": {
      "text/html": [
       "<div>\n",
       "<style scoped>\n",
       "    .dataframe tbody tr th:only-of-type {\n",
       "        vertical-align: middle;\n",
       "    }\n",
       "\n",
       "    .dataframe tbody tr th {\n",
       "        vertical-align: top;\n",
       "    }\n",
       "\n",
       "    .dataframe thead th {\n",
       "        text-align: right;\n",
       "    }\n",
       "</style>\n",
       "<table border=\"1\" class=\"dataframe\">\n",
       "  <thead>\n",
       "    <tr style=\"text-align: right;\">\n",
       "      <th></th>\n",
       "      <th>duration_sec</th>\n",
       "      <th>start_time</th>\n",
       "      <th>end_time</th>\n",
       "      <th>start_station_id</th>\n",
       "      <th>start_station_name</th>\n",
       "      <th>start_station_latitude</th>\n",
       "      <th>start_station_longitude</th>\n",
       "      <th>end_station_id</th>\n",
       "      <th>end_station_name</th>\n",
       "      <th>end_station_latitude</th>\n",
       "      <th>end_station_longitude</th>\n",
       "      <th>bike_id</th>\n",
       "      <th>user_type</th>\n",
       "      <th>member_birth_year</th>\n",
       "      <th>member_gender</th>\n",
       "      <th>bike_share_for_all_trip</th>\n",
       "    </tr>\n",
       "  </thead>\n",
       "  <tbody>\n",
       "    <tr>\n",
       "      <th>0</th>\n",
       "      <td>52185</td>\n",
       "      <td>32:10.1</td>\n",
       "      <td>01:56.0</td>\n",
       "      <td>21.0</td>\n",
       "      <td>Montgomery St BART Station (Market St at 2nd St)</td>\n",
       "      <td>37.789625</td>\n",
       "      <td>-122.400811</td>\n",
       "      <td>13.0</td>\n",
       "      <td>Commercial St at Montgomery St</td>\n",
       "      <td>37.794231</td>\n",
       "      <td>-122.402923</td>\n",
       "      <td>4902</td>\n",
       "      <td>Customer</td>\n",
       "      <td>1984.0</td>\n",
       "      <td>Male</td>\n",
       "      <td>No</td>\n",
       "    </tr>\n",
       "    <tr>\n",
       "      <th>1</th>\n",
       "      <td>42521</td>\n",
       "      <td>53:21.8</td>\n",
       "      <td>42:03.1</td>\n",
       "      <td>23.0</td>\n",
       "      <td>The Embarcadero at Steuart St</td>\n",
       "      <td>37.791464</td>\n",
       "      <td>-122.391034</td>\n",
       "      <td>81.0</td>\n",
       "      <td>Berry St at 4th St</td>\n",
       "      <td>37.775880</td>\n",
       "      <td>-122.393170</td>\n",
       "      <td>2535</td>\n",
       "      <td>Customer</td>\n",
       "      <td>NaN</td>\n",
       "      <td>NaN</td>\n",
       "      <td>No</td>\n",
       "    </tr>\n",
       "    <tr>\n",
       "      <th>2</th>\n",
       "      <td>61854</td>\n",
       "      <td>13:13.2</td>\n",
       "      <td>24:08.1</td>\n",
       "      <td>86.0</td>\n",
       "      <td>Market St at Dolores St</td>\n",
       "      <td>37.769305</td>\n",
       "      <td>-122.426826</td>\n",
       "      <td>3.0</td>\n",
       "      <td>Powell St BART Station (Market St at 4th St)</td>\n",
       "      <td>37.786375</td>\n",
       "      <td>-122.404904</td>\n",
       "      <td>5905</td>\n",
       "      <td>Customer</td>\n",
       "      <td>1972.0</td>\n",
       "      <td>Male</td>\n",
       "      <td>No</td>\n",
       "    </tr>\n",
       "    <tr>\n",
       "      <th>3</th>\n",
       "      <td>36490</td>\n",
       "      <td>54:26.0</td>\n",
       "      <td>02:36.8</td>\n",
       "      <td>375.0</td>\n",
       "      <td>Grove St at Masonic Ave</td>\n",
       "      <td>37.774836</td>\n",
       "      <td>-122.446546</td>\n",
       "      <td>70.0</td>\n",
       "      <td>Central Ave at Fell St</td>\n",
       "      <td>37.773311</td>\n",
       "      <td>-122.444293</td>\n",
       "      <td>6638</td>\n",
       "      <td>Subscriber</td>\n",
       "      <td>1989.0</td>\n",
       "      <td>Other</td>\n",
       "      <td>No</td>\n",
       "    </tr>\n",
       "    <tr>\n",
       "      <th>4</th>\n",
       "      <td>1585</td>\n",
       "      <td>54:18.5</td>\n",
       "      <td>20:44.1</td>\n",
       "      <td>7.0</td>\n",
       "      <td>Frank H Ogawa Plaza</td>\n",
       "      <td>37.804562</td>\n",
       "      <td>-122.271738</td>\n",
       "      <td>222.0</td>\n",
       "      <td>10th Ave at E 15th St</td>\n",
       "      <td>37.792714</td>\n",
       "      <td>-122.248780</td>\n",
       "      <td>4898</td>\n",
       "      <td>Subscriber</td>\n",
       "      <td>1974.0</td>\n",
       "      <td>Male</td>\n",
       "      <td>Yes</td>\n",
       "    </tr>\n",
       "    <tr>\n",
       "      <th>...</th>\n",
       "      <td>...</td>\n",
       "      <td>...</td>\n",
       "      <td>...</td>\n",
       "      <td>...</td>\n",
       "      <td>...</td>\n",
       "      <td>...</td>\n",
       "      <td>...</td>\n",
       "      <td>...</td>\n",
       "      <td>...</td>\n",
       "      <td>...</td>\n",
       "      <td>...</td>\n",
       "      <td>...</td>\n",
       "      <td>...</td>\n",
       "      <td>...</td>\n",
       "      <td>...</td>\n",
       "      <td>...</td>\n",
       "    </tr>\n",
       "    <tr>\n",
       "      <th>183411</th>\n",
       "      <td>271</td>\n",
       "      <td>00:20.6</td>\n",
       "      <td>04:52.1</td>\n",
       "      <td>24.0</td>\n",
       "      <td>Spear St at Folsom St</td>\n",
       "      <td>37.789677</td>\n",
       "      <td>-122.390428</td>\n",
       "      <td>37.0</td>\n",
       "      <td>2nd St at Folsom St</td>\n",
       "      <td>37.785000</td>\n",
       "      <td>-122.395936</td>\n",
       "      <td>1057</td>\n",
       "      <td>Subscriber</td>\n",
       "      <td>1989.0</td>\n",
       "      <td>Male</td>\n",
       "      <td>No</td>\n",
       "    </tr>\n",
       "    <tr>\n",
       "      <th>183412</th>\n",
       "      <td>313</td>\n",
       "      <td>05:34.7</td>\n",
       "      <td>10:48.5</td>\n",
       "      <td>21.0</td>\n",
       "      <td>Montgomery St BART Station (Market St at 2nd St)</td>\n",
       "      <td>37.789625</td>\n",
       "      <td>-122.400811</td>\n",
       "      <td>66.0</td>\n",
       "      <td>3rd St at Townsend St</td>\n",
       "      <td>37.778742</td>\n",
       "      <td>-122.392741</td>\n",
       "      <td>4960</td>\n",
       "      <td>Subscriber</td>\n",
       "      <td>1984.0</td>\n",
       "      <td>Male</td>\n",
       "      <td>No</td>\n",
       "    </tr>\n",
       "    <tr>\n",
       "      <th>183413</th>\n",
       "      <td>141</td>\n",
       "      <td>06:05.5</td>\n",
       "      <td>08:27.2</td>\n",
       "      <td>278.0</td>\n",
       "      <td>The Alameda at Bush St</td>\n",
       "      <td>37.331932</td>\n",
       "      <td>-121.904888</td>\n",
       "      <td>277.0</td>\n",
       "      <td>Morrison Ave at Julian St</td>\n",
       "      <td>37.333658</td>\n",
       "      <td>-121.908586</td>\n",
       "      <td>3824</td>\n",
       "      <td>Subscriber</td>\n",
       "      <td>1990.0</td>\n",
       "      <td>Male</td>\n",
       "      <td>Yes</td>\n",
       "    </tr>\n",
       "    <tr>\n",
       "      <th>183414</th>\n",
       "      <td>139</td>\n",
       "      <td>05:34.4</td>\n",
       "      <td>07:54.3</td>\n",
       "      <td>220.0</td>\n",
       "      <td>San Pablo Ave at MLK Jr Way</td>\n",
       "      <td>37.811351</td>\n",
       "      <td>-122.273422</td>\n",
       "      <td>216.0</td>\n",
       "      <td>San Pablo Ave at 27th St</td>\n",
       "      <td>37.817827</td>\n",
       "      <td>-122.275698</td>\n",
       "      <td>5095</td>\n",
       "      <td>Subscriber</td>\n",
       "      <td>1988.0</td>\n",
       "      <td>Male</td>\n",
       "      <td>No</td>\n",
       "    </tr>\n",
       "    <tr>\n",
       "      <th>183415</th>\n",
       "      <td>271</td>\n",
       "      <td>00:20.6</td>\n",
       "      <td>04:52.1</td>\n",
       "      <td>24.0</td>\n",
       "      <td>Spear St at Folsom St</td>\n",
       "      <td>37.789677</td>\n",
       "      <td>-122.390428</td>\n",
       "      <td>37.0</td>\n",
       "      <td>2nd St at Folsom St</td>\n",
       "      <td>37.785000</td>\n",
       "      <td>-122.395936</td>\n",
       "      <td>1057</td>\n",
       "      <td>Subscriber</td>\n",
       "      <td>1989.0</td>\n",
       "      <td>Male</td>\n",
       "      <td>No</td>\n",
       "    </tr>\n",
       "  </tbody>\n",
       "</table>\n",
       "<p>183416 rows × 16 columns</p>\n",
       "</div>"
      ],
      "text/plain": [
       "        duration_sec start_time end_time  start_station_id  \\\n",
       "0              52185    32:10.1  01:56.0              21.0   \n",
       "1              42521    53:21.8  42:03.1              23.0   \n",
       "2              61854    13:13.2  24:08.1              86.0   \n",
       "3              36490    54:26.0  02:36.8             375.0   \n",
       "4               1585    54:18.5  20:44.1               7.0   \n",
       "...              ...        ...      ...               ...   \n",
       "183411           271    00:20.6  04:52.1              24.0   \n",
       "183412           313    05:34.7  10:48.5              21.0   \n",
       "183413           141    06:05.5  08:27.2             278.0   \n",
       "183414           139    05:34.4  07:54.3             220.0   \n",
       "183415           271    00:20.6  04:52.1              24.0   \n",
       "\n",
       "                                      start_station_name  \\\n",
       "0       Montgomery St BART Station (Market St at 2nd St)   \n",
       "1                          The Embarcadero at Steuart St   \n",
       "2                                Market St at Dolores St   \n",
       "3                                Grove St at Masonic Ave   \n",
       "4                                    Frank H Ogawa Plaza   \n",
       "...                                                  ...   \n",
       "183411                             Spear St at Folsom St   \n",
       "183412  Montgomery St BART Station (Market St at 2nd St)   \n",
       "183413                            The Alameda at Bush St   \n",
       "183414                       San Pablo Ave at MLK Jr Way   \n",
       "183415                             Spear St at Folsom St   \n",
       "\n",
       "        start_station_latitude  start_station_longitude  end_station_id  \\\n",
       "0                    37.789625              -122.400811            13.0   \n",
       "1                    37.791464              -122.391034            81.0   \n",
       "2                    37.769305              -122.426826             3.0   \n",
       "3                    37.774836              -122.446546            70.0   \n",
       "4                    37.804562              -122.271738           222.0   \n",
       "...                        ...                      ...             ...   \n",
       "183411               37.789677              -122.390428            37.0   \n",
       "183412               37.789625              -122.400811            66.0   \n",
       "183413               37.331932              -121.904888           277.0   \n",
       "183414               37.811351              -122.273422           216.0   \n",
       "183415               37.789677              -122.390428            37.0   \n",
       "\n",
       "                                    end_station_name  end_station_latitude  \\\n",
       "0                     Commercial St at Montgomery St             37.794231   \n",
       "1                                 Berry St at 4th St             37.775880   \n",
       "2       Powell St BART Station (Market St at 4th St)             37.786375   \n",
       "3                             Central Ave at Fell St             37.773311   \n",
       "4                              10th Ave at E 15th St             37.792714   \n",
       "...                                              ...                   ...   \n",
       "183411                           2nd St at Folsom St             37.785000   \n",
       "183412                         3rd St at Townsend St             37.778742   \n",
       "183413                     Morrison Ave at Julian St             37.333658   \n",
       "183414                      San Pablo Ave at 27th St             37.817827   \n",
       "183415                           2nd St at Folsom St             37.785000   \n",
       "\n",
       "        end_station_longitude  bike_id   user_type  member_birth_year  \\\n",
       "0                 -122.402923     4902    Customer             1984.0   \n",
       "1                 -122.393170     2535    Customer                NaN   \n",
       "2                 -122.404904     5905    Customer             1972.0   \n",
       "3                 -122.444293     6638  Subscriber             1989.0   \n",
       "4                 -122.248780     4898  Subscriber             1974.0   \n",
       "...                       ...      ...         ...                ...   \n",
       "183411            -122.395936     1057  Subscriber             1989.0   \n",
       "183412            -122.392741     4960  Subscriber             1984.0   \n",
       "183413            -121.908586     3824  Subscriber             1990.0   \n",
       "183414            -122.275698     5095  Subscriber             1988.0   \n",
       "183415            -122.395936     1057  Subscriber             1989.0   \n",
       "\n",
       "       member_gender bike_share_for_all_trip  \n",
       "0               Male                      No  \n",
       "1                NaN                      No  \n",
       "2               Male                      No  \n",
       "3              Other                      No  \n",
       "4               Male                     Yes  \n",
       "...              ...                     ...  \n",
       "183411          Male                      No  \n",
       "183412          Male                      No  \n",
       "183413          Male                     Yes  \n",
       "183414          Male                      No  \n",
       "183415          Male                      No  \n",
       "\n",
       "[183416 rows x 16 columns]"
      ]
     },
     "execution_count": 2,
     "metadata": {},
     "output_type": "execute_result"
    }
   ],
   "source": [
    "# Load my dataset using pandas Dataframe\n",
    "data = pd.read_csv(\"fordgobike-tripdataFor201902.csv\")\n",
    "data"
   ]
  },
  {
   "cell_type": "code",
   "execution_count": 3,
   "id": "77211578",
   "metadata": {
    "execution": {
     "iopub.execute_input": "2024-05-08T19:18:48.623710Z",
     "iopub.status.busy": "2024-05-08T19:18:48.623116Z",
     "iopub.status.idle": "2024-05-08T19:18:48.629135Z",
     "shell.execute_reply": "2024-05-08T19:18:48.627907Z"
    },
    "papermill": {
     "duration": 0.028342,
     "end_time": "2024-05-08T19:18:48.631603",
     "exception": false,
     "start_time": "2024-05-08T19:18:48.603261",
     "status": "completed"
    },
    "tags": []
   },
   "outputs": [
    {
     "name": "stdout",
     "output_type": "stream",
     "text": [
      "<class 'pandas.core.frame.DataFrame'>\n",
      "RangeIndex: 183416 entries, 0 to 183415\n",
      "Data columns (total 16 columns):\n",
      " #   Column                   Non-Null Count   Dtype  \n",
      "---  ------                   --------------   -----  \n",
      " 0   duration_sec             183416 non-null  int64  \n",
      " 1   start_time               183416 non-null  object \n",
      " 2   end_time                 183416 non-null  object \n",
      " 3   start_station_id         183219 non-null  float64\n",
      " 4   start_station_name       183219 non-null  object \n",
      " 5   start_station_latitude   183416 non-null  float64\n",
      " 6   start_station_longitude  183416 non-null  float64\n",
      " 7   end_station_id           183219 non-null  float64\n",
      " 8   end_station_name         183219 non-null  object \n",
      " 9   end_station_latitude     183416 non-null  float64\n",
      " 10  end_station_longitude    183416 non-null  float64\n",
      " 11  bike_id                  183416 non-null  int64  \n",
      " 12  user_type                183416 non-null  object \n",
      " 13  member_birth_year        175151 non-null  float64\n",
      " 14  member_gender            175151 non-null  object \n",
      " 15  bike_share_for_all_trip  183416 non-null  object \n",
      "dtypes: float64(7), int64(2), object(7)\n",
      "memory usage: 22.4+ MB\n"
     ]
    }
   ],
   "source": [
    "# here we make overview in high-level for data shape and composition\n",
    "df = data.copy()\n",
    "df.info()"
   ]
  },
  {
   "cell_type": "code",
   "execution_count": 4,
   "id": "ba2001a7",
   "metadata": {
    "execution": {
     "iopub.execute_input": "2024-05-08T19:18:48.671066Z",
     "iopub.status.busy": "2024-05-08T19:18:48.670599Z",
     "iopub.status.idle": "2024-05-08T19:18:48.678028Z",
     "shell.execute_reply": "2024-05-08T19:18:48.676571Z"
    },
    "papermill": {
     "duration": 0.03103,
     "end_time": "2024-05-08T19:18:48.681691",
     "exception": false,
     "start_time": "2024-05-08T19:18:48.650661",
     "status": "completed"
    },
    "tags": []
   },
   "outputs": [
    {
     "data": {
      "text/html": [
       "<div>\n",
       "<style scoped>\n",
       "    .dataframe tbody tr th:only-of-type {\n",
       "        vertical-align: middle;\n",
       "    }\n",
       "\n",
       "    .dataframe tbody tr th {\n",
       "        vertical-align: top;\n",
       "    }\n",
       "\n",
       "    .dataframe thead th {\n",
       "        text-align: right;\n",
       "    }\n",
       "</style>\n",
       "<table border=\"1\" class=\"dataframe\">\n",
       "  <thead>\n",
       "    <tr style=\"text-align: right;\">\n",
       "      <th></th>\n",
       "      <th>duration_sec</th>\n",
       "      <th>start_time</th>\n",
       "      <th>end_time</th>\n",
       "      <th>start_station_id</th>\n",
       "      <th>start_station_name</th>\n",
       "      <th>start_station_latitude</th>\n",
       "      <th>start_station_longitude</th>\n",
       "      <th>end_station_id</th>\n",
       "      <th>end_station_name</th>\n",
       "      <th>end_station_latitude</th>\n",
       "      <th>end_station_longitude</th>\n",
       "      <th>bike_id</th>\n",
       "      <th>user_type</th>\n",
       "      <th>member_birth_year</th>\n",
       "      <th>member_gender</th>\n",
       "      <th>bike_share_for_all_trip</th>\n",
       "    </tr>\n",
       "  </thead>\n",
       "  <tbody>\n",
       "    <tr>\n",
       "      <th>Dtypes</th>\n",
       "      <td>int64</td>\n",
       "      <td>object</td>\n",
       "      <td>object</td>\n",
       "      <td>float64</td>\n",
       "      <td>object</td>\n",
       "      <td>float64</td>\n",
       "      <td>float64</td>\n",
       "      <td>float64</td>\n",
       "      <td>object</td>\n",
       "      <td>float64</td>\n",
       "      <td>float64</td>\n",
       "      <td>int64</td>\n",
       "      <td>object</td>\n",
       "      <td>float64</td>\n",
       "      <td>object</td>\n",
       "      <td>object</td>\n",
       "    </tr>\n",
       "    <tr>\n",
       "      <th>Num_Uniqe</th>\n",
       "      <td>4752</td>\n",
       "      <td>35783</td>\n",
       "      <td>35767</td>\n",
       "      <td>329</td>\n",
       "      <td>329</td>\n",
       "      <td>334</td>\n",
       "      <td>335</td>\n",
       "      <td>329</td>\n",
       "      <td>329</td>\n",
       "      <td>335</td>\n",
       "      <td>335</td>\n",
       "      <td>4646</td>\n",
       "      <td>2</td>\n",
       "      <td>75</td>\n",
       "      <td>3</td>\n",
       "      <td>2</td>\n",
       "    </tr>\n",
       "  </tbody>\n",
       "</table>\n",
       "</div>"
      ],
      "text/plain": [
       "          duration_sec start_time end_time start_station_id  \\\n",
       "Dtypes           int64     object   object          float64   \n",
       "Num_Uniqe         4752      35783    35767              329   \n",
       "\n",
       "          start_station_name start_station_latitude start_station_longitude  \\\n",
       "Dtypes                object                float64                 float64   \n",
       "Num_Uniqe                329                    334                     335   \n",
       "\n",
       "          end_station_id end_station_name end_station_latitude  \\\n",
       "Dtypes           float64           object              float64   \n",
       "Num_Uniqe            329              329                  335   \n",
       "\n",
       "          end_station_longitude bike_id user_type member_birth_year  \\\n",
       "Dtypes                  float64   int64    object           float64   \n",
       "Num_Uniqe                   335    4646         2                75   \n",
       "\n",
       "          member_gender bike_share_for_all_trip  \n",
       "Dtypes           object                  object  \n",
       "Num_Uniqe             3                       2  "
      ]
     },
     "execution_count": 4,
     "metadata": {},
     "output_type": "execute_result"
    }
   ],
   "source": [
    "## check each var  datatype \n",
    "dtypes = df.dtypes\n",
    "n_uniq = df.nunique()\n",
    "pd.DataFrame({\"Dtypes\": dtypes, \"Num_Uniqe\": n_uniq}).T\n"
   ]
  },
  {
   "cell_type": "code",
   "execution_count": 5,
   "id": "e4c044fc",
   "metadata": {},
   "outputs": [],
   "source": [
    "df.drop([\"start_station_name\", \"end_station_name\"], axis=1, inplace = True)"
   ]
  },
  {
   "cell_type": "code",
   "execution_count": 6,
   "id": "10407f10",
   "metadata": {
    "execution": {
     "iopub.execute_input": "2024-05-08T19:18:48.722892Z",
     "iopub.status.busy": "2024-05-08T19:18:48.722449Z",
     "iopub.status.idle": "2024-05-08T19:18:48.743090Z",
     "shell.execute_reply": "2024-05-08T19:18:48.741887Z"
    },
    "papermill": {
     "duration": 0.044069,
     "end_time": "2024-05-08T19:18:48.745705",
     "exception": false,
     "start_time": "2024-05-08T19:18:48.701636",
     "status": "completed"
    },
    "tags": []
   },
   "outputs": [
    {
     "data": {
      "text/html": [
       "<div>\n",
       "<style scoped>\n",
       "    .dataframe tbody tr th:only-of-type {\n",
       "        vertical-align: middle;\n",
       "    }\n",
       "\n",
       "    .dataframe tbody tr th {\n",
       "        vertical-align: top;\n",
       "    }\n",
       "\n",
       "    .dataframe thead th {\n",
       "        text-align: right;\n",
       "    }\n",
       "</style>\n",
       "<table border=\"1\" class=\"dataframe\">\n",
       "  <thead>\n",
       "    <tr style=\"text-align: right;\">\n",
       "      <th></th>\n",
       "      <th>duration_sec</th>\n",
       "      <th>start_time</th>\n",
       "      <th>end_time</th>\n",
       "      <th>start_station_id</th>\n",
       "      <th>start_station_latitude</th>\n",
       "      <th>start_station_longitude</th>\n",
       "      <th>end_station_id</th>\n",
       "      <th>end_station_latitude</th>\n",
       "      <th>end_station_longitude</th>\n",
       "      <th>bike_id</th>\n",
       "      <th>user_type</th>\n",
       "      <th>member_birth_year</th>\n",
       "      <th>member_gender</th>\n",
       "      <th>bike_share_for_all_trip</th>\n",
       "    </tr>\n",
       "  </thead>\n",
       "  <tbody>\n",
       "    <tr>\n",
       "      <th>0</th>\n",
       "      <td>52185</td>\n",
       "      <td>32:10.1</td>\n",
       "      <td>01:56.0</td>\n",
       "      <td>21.0</td>\n",
       "      <td>37.789625</td>\n",
       "      <td>-122.400811</td>\n",
       "      <td>13.0</td>\n",
       "      <td>37.794231</td>\n",
       "      <td>-122.402923</td>\n",
       "      <td>4902</td>\n",
       "      <td>Customer</td>\n",
       "      <td>1984.0</td>\n",
       "      <td>Male</td>\n",
       "      <td>No</td>\n",
       "    </tr>\n",
       "    <tr>\n",
       "      <th>1</th>\n",
       "      <td>42521</td>\n",
       "      <td>53:21.8</td>\n",
       "      <td>42:03.1</td>\n",
       "      <td>23.0</td>\n",
       "      <td>37.791464</td>\n",
       "      <td>-122.391034</td>\n",
       "      <td>81.0</td>\n",
       "      <td>37.775880</td>\n",
       "      <td>-122.393170</td>\n",
       "      <td>2535</td>\n",
       "      <td>Customer</td>\n",
       "      <td>NaN</td>\n",
       "      <td>NaN</td>\n",
       "      <td>No</td>\n",
       "    </tr>\n",
       "    <tr>\n",
       "      <th>2</th>\n",
       "      <td>61854</td>\n",
       "      <td>13:13.2</td>\n",
       "      <td>24:08.1</td>\n",
       "      <td>86.0</td>\n",
       "      <td>37.769305</td>\n",
       "      <td>-122.426826</td>\n",
       "      <td>3.0</td>\n",
       "      <td>37.786375</td>\n",
       "      <td>-122.404904</td>\n",
       "      <td>5905</td>\n",
       "      <td>Customer</td>\n",
       "      <td>1972.0</td>\n",
       "      <td>Male</td>\n",
       "      <td>No</td>\n",
       "    </tr>\n",
       "    <tr>\n",
       "      <th>3</th>\n",
       "      <td>36490</td>\n",
       "      <td>54:26.0</td>\n",
       "      <td>02:36.8</td>\n",
       "      <td>375.0</td>\n",
       "      <td>37.774836</td>\n",
       "      <td>-122.446546</td>\n",
       "      <td>70.0</td>\n",
       "      <td>37.773311</td>\n",
       "      <td>-122.444293</td>\n",
       "      <td>6638</td>\n",
       "      <td>Subscriber</td>\n",
       "      <td>1989.0</td>\n",
       "      <td>Other</td>\n",
       "      <td>No</td>\n",
       "    </tr>\n",
       "    <tr>\n",
       "      <th>4</th>\n",
       "      <td>1585</td>\n",
       "      <td>54:18.5</td>\n",
       "      <td>20:44.1</td>\n",
       "      <td>7.0</td>\n",
       "      <td>37.804562</td>\n",
       "      <td>-122.271738</td>\n",
       "      <td>222.0</td>\n",
       "      <td>37.792714</td>\n",
       "      <td>-122.248780</td>\n",
       "      <td>4898</td>\n",
       "      <td>Subscriber</td>\n",
       "      <td>1974.0</td>\n",
       "      <td>Male</td>\n",
       "      <td>Yes</td>\n",
       "    </tr>\n",
       "    <tr>\n",
       "      <th>5</th>\n",
       "      <td>1793</td>\n",
       "      <td>49:58.6</td>\n",
       "      <td>19:51.8</td>\n",
       "      <td>93.0</td>\n",
       "      <td>37.770407</td>\n",
       "      <td>-122.391198</td>\n",
       "      <td>323.0</td>\n",
       "      <td>37.798014</td>\n",
       "      <td>-122.405950</td>\n",
       "      <td>5200</td>\n",
       "      <td>Subscriber</td>\n",
       "      <td>1959.0</td>\n",
       "      <td>Male</td>\n",
       "      <td>No</td>\n",
       "    </tr>\n",
       "    <tr>\n",
       "      <th>6</th>\n",
       "      <td>1147</td>\n",
       "      <td>55:35.1</td>\n",
       "      <td>14:42.6</td>\n",
       "      <td>300.0</td>\n",
       "      <td>37.317298</td>\n",
       "      <td>-121.884995</td>\n",
       "      <td>312.0</td>\n",
       "      <td>37.329732</td>\n",
       "      <td>-121.901782</td>\n",
       "      <td>3803</td>\n",
       "      <td>Subscriber</td>\n",
       "      <td>1983.0</td>\n",
       "      <td>Female</td>\n",
       "      <td>No</td>\n",
       "    </tr>\n",
       "    <tr>\n",
       "      <th>7</th>\n",
       "      <td>1615</td>\n",
       "      <td>41:06.8</td>\n",
       "      <td>08:02.8</td>\n",
       "      <td>10.0</td>\n",
       "      <td>37.795393</td>\n",
       "      <td>-122.404770</td>\n",
       "      <td>127.0</td>\n",
       "      <td>37.756708</td>\n",
       "      <td>-122.421025</td>\n",
       "      <td>6329</td>\n",
       "      <td>Subscriber</td>\n",
       "      <td>1989.0</td>\n",
       "      <td>Male</td>\n",
       "      <td>No</td>\n",
       "    </tr>\n",
       "    <tr>\n",
       "      <th>8</th>\n",
       "      <td>1570</td>\n",
       "      <td>41:48.8</td>\n",
       "      <td>07:59.7</td>\n",
       "      <td>10.0</td>\n",
       "      <td>37.795393</td>\n",
       "      <td>-122.404770</td>\n",
       "      <td>127.0</td>\n",
       "      <td>37.756708</td>\n",
       "      <td>-122.421025</td>\n",
       "      <td>6548</td>\n",
       "      <td>Subscriber</td>\n",
       "      <td>1988.0</td>\n",
       "      <td>Other</td>\n",
       "      <td>No</td>\n",
       "    </tr>\n",
       "    <tr>\n",
       "      <th>9</th>\n",
       "      <td>1049</td>\n",
       "      <td>49:47.7</td>\n",
       "      <td>07:17.0</td>\n",
       "      <td>19.0</td>\n",
       "      <td>37.788975</td>\n",
       "      <td>-122.403452</td>\n",
       "      <td>121.0</td>\n",
       "      <td>37.759210</td>\n",
       "      <td>-122.421339</td>\n",
       "      <td>6488</td>\n",
       "      <td>Subscriber</td>\n",
       "      <td>1992.0</td>\n",
       "      <td>Male</td>\n",
       "      <td>No</td>\n",
       "    </tr>\n",
       "    <tr>\n",
       "      <th>10</th>\n",
       "      <td>458</td>\n",
       "      <td>57:57.2</td>\n",
       "      <td>05:35.4</td>\n",
       "      <td>370.0</td>\n",
       "      <td>37.787327</td>\n",
       "      <td>-122.413278</td>\n",
       "      <td>43.0</td>\n",
       "      <td>37.778768</td>\n",
       "      <td>-122.415929</td>\n",
       "      <td>5318</td>\n",
       "      <td>Subscriber</td>\n",
       "      <td>1996.0</td>\n",
       "      <td>Female</td>\n",
       "      <td>Yes</td>\n",
       "    </tr>\n",
       "    <tr>\n",
       "      <th>11</th>\n",
       "      <td>506</td>\n",
       "      <td>56:55.5</td>\n",
       "      <td>05:21.7</td>\n",
       "      <td>44.0</td>\n",
       "      <td>37.781074</td>\n",
       "      <td>-122.411738</td>\n",
       "      <td>343.0</td>\n",
       "      <td>37.783172</td>\n",
       "      <td>-122.393572</td>\n",
       "      <td>5848</td>\n",
       "      <td>Subscriber</td>\n",
       "      <td>1993.0</td>\n",
       "      <td>Male</td>\n",
       "      <td>No</td>\n",
       "    </tr>\n",
       "    <tr>\n",
       "      <th>12</th>\n",
       "      <td>1176</td>\n",
       "      <td>45:12.7</td>\n",
       "      <td>04:49.2</td>\n",
       "      <td>127.0</td>\n",
       "      <td>37.756708</td>\n",
       "      <td>-122.421025</td>\n",
       "      <td>323.0</td>\n",
       "      <td>37.798014</td>\n",
       "      <td>-122.405950</td>\n",
       "      <td>5328</td>\n",
       "      <td>Customer</td>\n",
       "      <td>1990.0</td>\n",
       "      <td>Male</td>\n",
       "      <td>No</td>\n",
       "    </tr>\n",
       "    <tr>\n",
       "      <th>13</th>\n",
       "      <td>915</td>\n",
       "      <td>49:06.1</td>\n",
       "      <td>04:21.9</td>\n",
       "      <td>252.0</td>\n",
       "      <td>37.865847</td>\n",
       "      <td>-122.267443</td>\n",
       "      <td>244.0</td>\n",
       "      <td>37.873676</td>\n",
       "      <td>-122.268487</td>\n",
       "      <td>5101</td>\n",
       "      <td>Subscriber</td>\n",
       "      <td>NaN</td>\n",
       "      <td>NaN</td>\n",
       "      <td>No</td>\n",
       "    </tr>\n",
       "    <tr>\n",
       "      <th>14</th>\n",
       "      <td>395</td>\n",
       "      <td>56:26.8</td>\n",
       "      <td>03:01.9</td>\n",
       "      <td>243.0</td>\n",
       "      <td>37.869360</td>\n",
       "      <td>-122.254337</td>\n",
       "      <td>252.0</td>\n",
       "      <td>37.865847</td>\n",
       "      <td>-122.267443</td>\n",
       "      <td>4786</td>\n",
       "      <td>Subscriber</td>\n",
       "      <td>1988.0</td>\n",
       "      <td>Male</td>\n",
       "      <td>No</td>\n",
       "    </tr>\n",
       "  </tbody>\n",
       "</table>\n",
       "</div>"
      ],
      "text/plain": [
       "    duration_sec start_time end_time  start_station_id  \\\n",
       "0          52185    32:10.1  01:56.0              21.0   \n",
       "1          42521    53:21.8  42:03.1              23.0   \n",
       "2          61854    13:13.2  24:08.1              86.0   \n",
       "3          36490    54:26.0  02:36.8             375.0   \n",
       "4           1585    54:18.5  20:44.1               7.0   \n",
       "5           1793    49:58.6  19:51.8              93.0   \n",
       "6           1147    55:35.1  14:42.6             300.0   \n",
       "7           1615    41:06.8  08:02.8              10.0   \n",
       "8           1570    41:48.8  07:59.7              10.0   \n",
       "9           1049    49:47.7  07:17.0              19.0   \n",
       "10           458    57:57.2  05:35.4             370.0   \n",
       "11           506    56:55.5  05:21.7              44.0   \n",
       "12          1176    45:12.7  04:49.2             127.0   \n",
       "13           915    49:06.1  04:21.9             252.0   \n",
       "14           395    56:26.8  03:01.9             243.0   \n",
       "\n",
       "    start_station_latitude  start_station_longitude  end_station_id  \\\n",
       "0                37.789625              -122.400811            13.0   \n",
       "1                37.791464              -122.391034            81.0   \n",
       "2                37.769305              -122.426826             3.0   \n",
       "3                37.774836              -122.446546            70.0   \n",
       "4                37.804562              -122.271738           222.0   \n",
       "5                37.770407              -122.391198           323.0   \n",
       "6                37.317298              -121.884995           312.0   \n",
       "7                37.795393              -122.404770           127.0   \n",
       "8                37.795393              -122.404770           127.0   \n",
       "9                37.788975              -122.403452           121.0   \n",
       "10               37.787327              -122.413278            43.0   \n",
       "11               37.781074              -122.411738           343.0   \n",
       "12               37.756708              -122.421025           323.0   \n",
       "13               37.865847              -122.267443           244.0   \n",
       "14               37.869360              -122.254337           252.0   \n",
       "\n",
       "    end_station_latitude  end_station_longitude  bike_id   user_type  \\\n",
       "0              37.794231            -122.402923     4902    Customer   \n",
       "1              37.775880            -122.393170     2535    Customer   \n",
       "2              37.786375            -122.404904     5905    Customer   \n",
       "3              37.773311            -122.444293     6638  Subscriber   \n",
       "4              37.792714            -122.248780     4898  Subscriber   \n",
       "5              37.798014            -122.405950     5200  Subscriber   \n",
       "6              37.329732            -121.901782     3803  Subscriber   \n",
       "7              37.756708            -122.421025     6329  Subscriber   \n",
       "8              37.756708            -122.421025     6548  Subscriber   \n",
       "9              37.759210            -122.421339     6488  Subscriber   \n",
       "10             37.778768            -122.415929     5318  Subscriber   \n",
       "11             37.783172            -122.393572     5848  Subscriber   \n",
       "12             37.798014            -122.405950     5328    Customer   \n",
       "13             37.873676            -122.268487     5101  Subscriber   \n",
       "14             37.865847            -122.267443     4786  Subscriber   \n",
       "\n",
       "    member_birth_year member_gender bike_share_for_all_trip  \n",
       "0              1984.0          Male                      No  \n",
       "1                 NaN           NaN                      No  \n",
       "2              1972.0          Male                      No  \n",
       "3              1989.0         Other                      No  \n",
       "4              1974.0          Male                     Yes  \n",
       "5              1959.0          Male                      No  \n",
       "6              1983.0        Female                      No  \n",
       "7              1989.0          Male                      No  \n",
       "8              1988.0         Other                      No  \n",
       "9              1992.0          Male                      No  \n",
       "10             1996.0        Female                     Yes  \n",
       "11             1993.0          Male                      No  \n",
       "12             1990.0          Male                      No  \n",
       "13                NaN           NaN                      No  \n",
       "14             1988.0          Male                      No  "
      ]
     },
     "execution_count": 6,
     "metadata": {},
     "output_type": "execute_result"
    }
   ],
   "source": [
    "## I display 15 rows to understand the content values more \n",
    "df.head(15)\n"
   ]
  },
  {
   "cell_type": "code",
   "execution_count": 7,
   "id": "2ea7b86a",
   "metadata": {
    "execution": {
     "iopub.execute_input": "2024-05-08T19:18:48.785984Z",
     "iopub.status.busy": "2024-05-08T19:18:48.785173Z",
     "iopub.status.idle": "2024-05-08T19:18:48.917818Z",
     "shell.execute_reply": "2024-05-08T19:18:48.916122Z"
    },
    "papermill": {
     "duration": 0.156422,
     "end_time": "2024-05-08T19:18:48.920941",
     "exception": false,
     "start_time": "2024-05-08T19:18:48.764519",
     "status": "completed"
    },
    "tags": []
   },
   "outputs": [
    {
     "data": {
      "text/html": [
       "<div>\n",
       "<style scoped>\n",
       "    .dataframe tbody tr th:only-of-type {\n",
       "        vertical-align: middle;\n",
       "    }\n",
       "\n",
       "    .dataframe tbody tr th {\n",
       "        vertical-align: top;\n",
       "    }\n",
       "\n",
       "    .dataframe thead th {\n",
       "        text-align: right;\n",
       "    }\n",
       "</style>\n",
       "<table border=\"1\" class=\"dataframe\">\n",
       "  <thead>\n",
       "    <tr style=\"text-align: right;\">\n",
       "      <th></th>\n",
       "      <th>duration_sec</th>\n",
       "      <th>start_station_id</th>\n",
       "      <th>start_station_latitude</th>\n",
       "      <th>start_station_longitude</th>\n",
       "      <th>end_station_id</th>\n",
       "      <th>end_station_latitude</th>\n",
       "      <th>end_station_longitude</th>\n",
       "      <th>bike_id</th>\n",
       "      <th>member_birth_year</th>\n",
       "    </tr>\n",
       "  </thead>\n",
       "  <tbody>\n",
       "    <tr>\n",
       "      <th>count</th>\n",
       "      <td>183416.000000</td>\n",
       "      <td>183219.000000</td>\n",
       "      <td>183416.000000</td>\n",
       "      <td>183416.000000</td>\n",
       "      <td>183219.000000</td>\n",
       "      <td>183416.000000</td>\n",
       "      <td>183416.000000</td>\n",
       "      <td>183416.000000</td>\n",
       "      <td>175151.000000</td>\n",
       "    </tr>\n",
       "    <tr>\n",
       "      <th>mean</th>\n",
       "      <td>726.067311</td>\n",
       "      <td>138.590365</td>\n",
       "      <td>37.771221</td>\n",
       "      <td>-122.352661</td>\n",
       "      <td>136.249401</td>\n",
       "      <td>37.771425</td>\n",
       "      <td>-122.352247</td>\n",
       "      <td>4472.890260</td>\n",
       "      <td>1984.806504</td>\n",
       "    </tr>\n",
       "    <tr>\n",
       "      <th>std</th>\n",
       "      <td>1794.371831</td>\n",
       "      <td>111.778938</td>\n",
       "      <td>0.099586</td>\n",
       "      <td>0.117100</td>\n",
       "      <td>111.514916</td>\n",
       "      <td>0.099494</td>\n",
       "      <td>0.116677</td>\n",
       "      <td>1664.386068</td>\n",
       "      <td>10.116589</td>\n",
       "    </tr>\n",
       "    <tr>\n",
       "      <th>min</th>\n",
       "      <td>61.000000</td>\n",
       "      <td>3.000000</td>\n",
       "      <td>37.317298</td>\n",
       "      <td>-122.453705</td>\n",
       "      <td>3.000000</td>\n",
       "      <td>37.317298</td>\n",
       "      <td>-122.453705</td>\n",
       "      <td>11.000000</td>\n",
       "      <td>1878.000000</td>\n",
       "    </tr>\n",
       "    <tr>\n",
       "      <th>25%</th>\n",
       "      <td>325.000000</td>\n",
       "      <td>47.000000</td>\n",
       "      <td>37.770083</td>\n",
       "      <td>-122.412408</td>\n",
       "      <td>44.000000</td>\n",
       "      <td>37.770407</td>\n",
       "      <td>-122.411726</td>\n",
       "      <td>3777.000000</td>\n",
       "      <td>1980.000000</td>\n",
       "    </tr>\n",
       "    <tr>\n",
       "      <th>50%</th>\n",
       "      <td>514.000000</td>\n",
       "      <td>104.000000</td>\n",
       "      <td>37.780760</td>\n",
       "      <td>-122.398285</td>\n",
       "      <td>100.000000</td>\n",
       "      <td>37.781010</td>\n",
       "      <td>-122.398279</td>\n",
       "      <td>4958.000000</td>\n",
       "      <td>1987.000000</td>\n",
       "    </tr>\n",
       "    <tr>\n",
       "      <th>75%</th>\n",
       "      <td>796.000000</td>\n",
       "      <td>239.000000</td>\n",
       "      <td>37.797280</td>\n",
       "      <td>-122.286533</td>\n",
       "      <td>235.000000</td>\n",
       "      <td>37.797320</td>\n",
       "      <td>-122.288045</td>\n",
       "      <td>5502.000000</td>\n",
       "      <td>1992.000000</td>\n",
       "    </tr>\n",
       "    <tr>\n",
       "      <th>max</th>\n",
       "      <td>85444.000000</td>\n",
       "      <td>398.000000</td>\n",
       "      <td>37.880222</td>\n",
       "      <td>-121.874119</td>\n",
       "      <td>398.000000</td>\n",
       "      <td>37.880222</td>\n",
       "      <td>-121.874119</td>\n",
       "      <td>6645.000000</td>\n",
       "      <td>2001.000000</td>\n",
       "    </tr>\n",
       "  </tbody>\n",
       "</table>\n",
       "</div>"
      ],
      "text/plain": [
       "        duration_sec  start_station_id  start_station_latitude  \\\n",
       "count  183416.000000     183219.000000           183416.000000   \n",
       "mean      726.067311        138.590365               37.771221   \n",
       "std      1794.371831        111.778938                0.099586   \n",
       "min        61.000000          3.000000               37.317298   \n",
       "25%       325.000000         47.000000               37.770083   \n",
       "50%       514.000000        104.000000               37.780760   \n",
       "75%       796.000000        239.000000               37.797280   \n",
       "max     85444.000000        398.000000               37.880222   \n",
       "\n",
       "       start_station_longitude  end_station_id  end_station_latitude  \\\n",
       "count            183416.000000   183219.000000         183416.000000   \n",
       "mean               -122.352661      136.249401             37.771425   \n",
       "std                   0.117100      111.514916              0.099494   \n",
       "min                -122.453705        3.000000             37.317298   \n",
       "25%                -122.412408       44.000000             37.770407   \n",
       "50%                -122.398285      100.000000             37.781010   \n",
       "75%                -122.286533      235.000000             37.797320   \n",
       "max                -121.874119      398.000000             37.880222   \n",
       "\n",
       "       end_station_longitude        bike_id  member_birth_year  \n",
       "count          183416.000000  183416.000000      175151.000000  \n",
       "mean             -122.352247    4472.890260        1984.806504  \n",
       "std                 0.116677    1664.386068          10.116589  \n",
       "min              -122.453705      11.000000        1878.000000  \n",
       "25%              -122.411726    3777.000000        1980.000000  \n",
       "50%              -122.398279    4958.000000        1987.000000  \n",
       "75%              -122.288045    5502.000000        1992.000000  \n",
       "max              -121.874119    6645.000000        2001.000000  "
      ]
     },
     "execution_count": 7,
     "metadata": {},
     "output_type": "execute_result"
    }
   ],
   "source": [
    "# descriptive statistics for numeric variables\n",
    "df.describe()"
   ]
  },
  {
   "cell_type": "markdown",
   "id": "4eae9eea",
   "metadata": {
    "execution": {
     "iopub.execute_input": "2022-07-09T14:43:28.843544Z",
     "iopub.status.busy": "2022-07-09T14:43:28.843133Z",
     "iopub.status.idle": "2022-07-09T14:43:29.410168Z",
     "shell.execute_reply": "2022-07-09T14:43:29.409279Z",
     "shell.execute_reply.started": "2022-07-09T14:43:28.84351Z"
    },
    "papermill": {
     "duration": 0.01949,
     "end_time": "2024-05-08T19:18:48.959466",
     "exception": false,
     "start_time": "2024-05-08T19:18:48.939976",
     "status": "completed"
    },
    "tags": []
   },
   "source": [
    "\n",
    "\n",
    "> ### What is the structure of your dataset?\n",
    "\n",
    "\n",
    "\n",
    "\n",
    "\n",
    "- The structure of the dataset contains  16 columns and 183415 rows.\n",
    " \n",
    " \n",
    "- Most variables are numerical in nature , and here are **dtypes summary :**\n",
    "\n",
    "        - float (7)\n",
    "        - int (2)\n",
    "        - object(7)\n",
    "        \n",
    "\n",
    "\n",
    "\n",
    "> ### What are the main interesting features in the dataset?\n",
    "\n",
    "\n",
    "\n",
    " **We got three main feature areas which are :**\n",
    "\n",
    "- duration\n",
    "- member_birth_year\n",
    "- member_gender \n",
    "\n",
    "\n",
    "> ### What features in the dataset supported my investigation for these interesting features?\n",
    "- user_type\n",
    "- bike_share_for_all_trip\n",
    "- member_gender\n",
    "- member_birth_year\n",
    "- duration_sec"
   ]
  },
  {
   "cell_type": "markdown",
   "id": "c2f86aee",
   "metadata": {
    "execution": {
     "iopub.execute_input": "2022-07-30T03:19:48.371337Z",
     "iopub.status.busy": "2022-07-30T03:19:48.370908Z",
     "iopub.status.idle": "2022-07-30T03:19:48.376456Z",
     "shell.execute_reply": "2022-07-30T03:19:48.375263Z",
     "shell.execute_reply.started": "2022-07-30T03:19:48.371292Z"
    },
    "papermill": {
     "duration": 0.018643,
     "end_time": "2024-05-08T19:18:48.997310",
     "exception": false,
     "start_time": "2024-05-08T19:18:48.978667",
     "status": "completed"
    },
    "tags": []
   },
   "source": [
    "##  More Exploring ideas to begin my investigation"
   ]
  },
  {
   "cell_type": "code",
   "execution_count": 8,
   "id": "1c1776a1",
   "metadata": {
    "execution": {
     "iopub.execute_input": "2024-05-08T19:18:49.221830Z",
     "iopub.status.busy": "2024-05-08T19:18:49.221408Z",
     "iopub.status.idle": "2024-05-08T19:18:49.311952Z",
     "shell.execute_reply": "2024-05-08T19:18:49.309888Z"
    },
    "papermill": {
     "duration": 0.115831,
     "end_time": "2024-05-08T19:18:49.315083",
     "exception": false,
     "start_time": "2024-05-08T19:18:49.199252",
     "status": "completed"
    },
    "tags": []
   },
   "outputs": [
    {
     "name": "stdout",
     "output_type": "stream",
     "text": [
      "<class 'pandas.core.frame.DataFrame'>\n",
      "RangeIndex: 183416 entries, 0 to 183415\n",
      "Data columns (total 14 columns):\n",
      " #   Column                   Non-Null Count   Dtype  \n",
      "---  ------                   --------------   -----  \n",
      " 0   duration_sec             183416 non-null  int64  \n",
      " 1   start_time               183416 non-null  object \n",
      " 2   end_time                 183416 non-null  object \n",
      " 3   start_station_id         183219 non-null  float64\n",
      " 4   start_station_latitude   183416 non-null  float64\n",
      " 5   start_station_longitude  183416 non-null  float64\n",
      " 6   end_station_id           183219 non-null  float64\n",
      " 7   end_station_latitude     183416 non-null  float64\n",
      " 8   end_station_longitude    183416 non-null  float64\n",
      " 9   bike_id                  183416 non-null  int64  \n",
      " 10  user_type                183416 non-null  object \n",
      " 11  member_birth_year        175151 non-null  float64\n",
      " 12  member_gender            175151 non-null  object \n",
      " 13  bike_share_for_all_trip  183416 non-null  object \n",
      "dtypes: float64(7), int64(2), object(5)\n",
      "memory usage: 19.6+ MB\n"
     ]
    }
   ],
   "source": [
    "# display the information about each column\n",
    "df.info()"
   ]
  },
  {
   "cell_type": "markdown",
   "id": "c847664a",
   "metadata": {
    "papermill": {
     "duration": 0.020416,
     "end_time": "2024-05-08T19:18:49.357002",
     "exception": false,
     "start_time": "2024-05-08T19:18:49.336586",
     "status": "completed"
    },
    "tags": []
   },
   "source": [
    "## <mark>The above result show some missing values exist in some columns So let's display them </mark>"
   ]
  },
  {
   "cell_type": "code",
   "execution_count": 9,
   "id": "b35fa248",
   "metadata": {
    "execution": {
     "iopub.execute_input": "2024-05-08T19:18:49.399184Z",
     "iopub.status.busy": "2024-05-08T19:18:49.398751Z",
     "iopub.status.idle": "2024-05-08T19:18:49.477290Z",
     "shell.execute_reply": "2024-05-08T19:18:49.475887Z"
    },
    "papermill": {
     "duration": 0.102282,
     "end_time": "2024-05-08T19:18:49.480112",
     "exception": false,
     "start_time": "2024-05-08T19:18:49.377830",
     "status": "completed"
    },
    "tags": []
   },
   "outputs": [
    {
     "data": {
      "text/html": [
       "<div>\n",
       "<style scoped>\n",
       "    .dataframe tbody tr th:only-of-type {\n",
       "        vertical-align: middle;\n",
       "    }\n",
       "\n",
       "    .dataframe tbody tr th {\n",
       "        vertical-align: top;\n",
       "    }\n",
       "\n",
       "    .dataframe thead th {\n",
       "        text-align: right;\n",
       "    }\n",
       "</style>\n",
       "<table border=\"1\" class=\"dataframe\">\n",
       "  <thead>\n",
       "    <tr style=\"text-align: right;\">\n",
       "      <th></th>\n",
       "      <th>Null_sum</th>\n",
       "      <th>Ratio</th>\n",
       "    </tr>\n",
       "  </thead>\n",
       "  <tbody>\n",
       "    <tr>\n",
       "      <th>duration_sec</th>\n",
       "      <td>0</td>\n",
       "      <td>0.000000</td>\n",
       "    </tr>\n",
       "    <tr>\n",
       "      <th>start_time</th>\n",
       "      <td>0</td>\n",
       "      <td>0.000000</td>\n",
       "    </tr>\n",
       "    <tr>\n",
       "      <th>end_time</th>\n",
       "      <td>0</td>\n",
       "      <td>0.000000</td>\n",
       "    </tr>\n",
       "    <tr>\n",
       "      <th>start_station_id</th>\n",
       "      <td>197</td>\n",
       "      <td>0.001074</td>\n",
       "    </tr>\n",
       "    <tr>\n",
       "      <th>start_station_latitude</th>\n",
       "      <td>0</td>\n",
       "      <td>0.000000</td>\n",
       "    </tr>\n",
       "    <tr>\n",
       "      <th>start_station_longitude</th>\n",
       "      <td>0</td>\n",
       "      <td>0.000000</td>\n",
       "    </tr>\n",
       "    <tr>\n",
       "      <th>end_station_id</th>\n",
       "      <td>197</td>\n",
       "      <td>0.001074</td>\n",
       "    </tr>\n",
       "    <tr>\n",
       "      <th>end_station_latitude</th>\n",
       "      <td>0</td>\n",
       "      <td>0.000000</td>\n",
       "    </tr>\n",
       "    <tr>\n",
       "      <th>end_station_longitude</th>\n",
       "      <td>0</td>\n",
       "      <td>0.000000</td>\n",
       "    </tr>\n",
       "    <tr>\n",
       "      <th>bike_id</th>\n",
       "      <td>0</td>\n",
       "      <td>0.000000</td>\n",
       "    </tr>\n",
       "    <tr>\n",
       "      <th>user_type</th>\n",
       "      <td>0</td>\n",
       "      <td>0.000000</td>\n",
       "    </tr>\n",
       "    <tr>\n",
       "      <th>member_birth_year</th>\n",
       "      <td>8265</td>\n",
       "      <td>0.045061</td>\n",
       "    </tr>\n",
       "    <tr>\n",
       "      <th>member_gender</th>\n",
       "      <td>8265</td>\n",
       "      <td>0.045061</td>\n",
       "    </tr>\n",
       "    <tr>\n",
       "      <th>bike_share_for_all_trip</th>\n",
       "      <td>0</td>\n",
       "      <td>0.000000</td>\n",
       "    </tr>\n",
       "  </tbody>\n",
       "</table>\n",
       "</div>"
      ],
      "text/plain": [
       "                         Null_sum     Ratio\n",
       "duration_sec                    0  0.000000\n",
       "start_time                      0  0.000000\n",
       "end_time                        0  0.000000\n",
       "start_station_id              197  0.001074\n",
       "start_station_latitude          0  0.000000\n",
       "start_station_longitude         0  0.000000\n",
       "end_station_id                197  0.001074\n",
       "end_station_latitude            0  0.000000\n",
       "end_station_longitude           0  0.000000\n",
       "bike_id                         0  0.000000\n",
       "user_type                       0  0.000000\n",
       "member_birth_year            8265  0.045061\n",
       "member_gender                8265  0.045061\n",
       "bike_share_for_all_trip         0  0.000000"
      ]
     },
     "execution_count": 9,
     "metadata": {},
     "output_type": "execute_result"
    }
   ],
   "source": [
    "null = df.isnull().sum()\n",
    "ratio = null / df.shape[0]\n",
    "pd.DataFrame({\"Null_sum\": null, \"Ratio\": ratio})"
   ]
  },
  {
   "cell_type": "markdown",
   "id": "e29ddd13",
   "metadata": {
    "papermill": {
     "duration": 0.020625,
     "end_time": "2024-05-08T19:18:49.521635",
     "exception": false,
     "start_time": "2024-05-08T19:18:49.501010",
     "status": "completed"
    },
    "tags": []
   },
   "source": [
    "\n",
    "\n",
    "> ## <mark>The result above shows many missing data </mark>\n",
    "\n",
    "\n",
    "\n",
    "###  To fix this issue You will fill these values with Mean for numeric and Mode for categorical"
   ]
  },
  {
   "cell_type": "code",
   "execution_count": 10,
   "id": "290bf1eb",
   "metadata": {
    "execution": {
     "iopub.execute_input": "2024-05-08T19:18:49.563277Z",
     "iopub.status.busy": "2024-05-08T19:18:49.562861Z",
     "iopub.status.idle": "2024-05-08T19:18:49.641347Z",
     "shell.execute_reply": "2024-05-08T19:18:49.640013Z"
    },
    "papermill": {
     "duration": 0.102178,
     "end_time": "2024-05-08T19:18:49.644179",
     "exception": false,
     "start_time": "2024-05-08T19:18:49.542001",
     "status": "completed"
    },
    "tags": []
   },
   "outputs": [],
   "source": [
    "# trying to fill missing values in my datset \n",
    "df[\"start_station_id\"] = df[\"start_station_id\"].fillna(df[\"start_station_id\"].mode()[0])\n",
    "df[\"end_station_id\"] = df[\"end_station_id\"].fillna(df[\"end_station_id\"].mode()[0])\n",
    "df[\"member_birth_year\"] = df[\"member_birth_year\"].fillna(df[\"member_birth_year\"].mode()[0])\n",
    "df[\"member_gender\"] = df[\"member_gender\"].fillna(df[\"member_gender\"].mode()[0])"
   ]
  },
  {
   "cell_type": "code",
   "execution_count": 11,
   "id": "9609a1af",
   "metadata": {
    "execution": {
     "iopub.execute_input": "2024-05-08T19:18:49.685764Z",
     "iopub.status.busy": "2024-05-08T19:18:49.685335Z",
     "iopub.status.idle": "2024-05-08T19:18:49.764792Z",
     "shell.execute_reply": "2024-05-08T19:18:49.763405Z"
    },
    "papermill": {
     "duration": 0.103491,
     "end_time": "2024-05-08T19:18:49.767579",
     "exception": false,
     "start_time": "2024-05-08T19:18:49.664088",
     "status": "completed"
    },
    "tags": []
   },
   "outputs": [
    {
     "data": {
      "text/html": [
       "<div>\n",
       "<style scoped>\n",
       "    .dataframe tbody tr th:only-of-type {\n",
       "        vertical-align: middle;\n",
       "    }\n",
       "\n",
       "    .dataframe tbody tr th {\n",
       "        vertical-align: top;\n",
       "    }\n",
       "\n",
       "    .dataframe thead th {\n",
       "        text-align: right;\n",
       "    }\n",
       "</style>\n",
       "<table border=\"1\" class=\"dataframe\">\n",
       "  <thead>\n",
       "    <tr style=\"text-align: right;\">\n",
       "      <th></th>\n",
       "      <th>Null_sum</th>\n",
       "      <th>Ratio</th>\n",
       "    </tr>\n",
       "  </thead>\n",
       "  <tbody>\n",
       "    <tr>\n",
       "      <th>duration_sec</th>\n",
       "      <td>0</td>\n",
       "      <td>0.0</td>\n",
       "    </tr>\n",
       "    <tr>\n",
       "      <th>start_time</th>\n",
       "      <td>0</td>\n",
       "      <td>0.0</td>\n",
       "    </tr>\n",
       "    <tr>\n",
       "      <th>end_time</th>\n",
       "      <td>0</td>\n",
       "      <td>0.0</td>\n",
       "    </tr>\n",
       "    <tr>\n",
       "      <th>start_station_id</th>\n",
       "      <td>0</td>\n",
       "      <td>0.0</td>\n",
       "    </tr>\n",
       "    <tr>\n",
       "      <th>start_station_latitude</th>\n",
       "      <td>0</td>\n",
       "      <td>0.0</td>\n",
       "    </tr>\n",
       "    <tr>\n",
       "      <th>start_station_longitude</th>\n",
       "      <td>0</td>\n",
       "      <td>0.0</td>\n",
       "    </tr>\n",
       "    <tr>\n",
       "      <th>end_station_id</th>\n",
       "      <td>0</td>\n",
       "      <td>0.0</td>\n",
       "    </tr>\n",
       "    <tr>\n",
       "      <th>end_station_latitude</th>\n",
       "      <td>0</td>\n",
       "      <td>0.0</td>\n",
       "    </tr>\n",
       "    <tr>\n",
       "      <th>end_station_longitude</th>\n",
       "      <td>0</td>\n",
       "      <td>0.0</td>\n",
       "    </tr>\n",
       "    <tr>\n",
       "      <th>bike_id</th>\n",
       "      <td>0</td>\n",
       "      <td>0.0</td>\n",
       "    </tr>\n",
       "    <tr>\n",
       "      <th>user_type</th>\n",
       "      <td>0</td>\n",
       "      <td>0.0</td>\n",
       "    </tr>\n",
       "    <tr>\n",
       "      <th>member_birth_year</th>\n",
       "      <td>0</td>\n",
       "      <td>0.0</td>\n",
       "    </tr>\n",
       "    <tr>\n",
       "      <th>member_gender</th>\n",
       "      <td>0</td>\n",
       "      <td>0.0</td>\n",
       "    </tr>\n",
       "    <tr>\n",
       "      <th>bike_share_for_all_trip</th>\n",
       "      <td>0</td>\n",
       "      <td>0.0</td>\n",
       "    </tr>\n",
       "  </tbody>\n",
       "</table>\n",
       "</div>"
      ],
      "text/plain": [
       "                         Null_sum  Ratio\n",
       "duration_sec                    0    0.0\n",
       "start_time                      0    0.0\n",
       "end_time                        0    0.0\n",
       "start_station_id                0    0.0\n",
       "start_station_latitude          0    0.0\n",
       "start_station_longitude         0    0.0\n",
       "end_station_id                  0    0.0\n",
       "end_station_latitude            0    0.0\n",
       "end_station_longitude           0    0.0\n",
       "bike_id                         0    0.0\n",
       "user_type                       0    0.0\n",
       "member_birth_year               0    0.0\n",
       "member_gender                   0    0.0\n",
       "bike_share_for_all_trip         0    0.0"
      ]
     },
     "execution_count": 11,
     "metadata": {},
     "output_type": "execute_result"
    }
   ],
   "source": [
    "#check the Nulls \n",
    "null = df.isnull().sum()\n",
    "ratio = null / df.shape[0]\n",
    "pd.DataFrame({\"Null_sum\": null, \"Ratio\": ratio})"
   ]
  },
  {
   "cell_type": "markdown",
   "id": "3c492d96",
   "metadata": {
    "papermill": {
     "duration": 0.020179,
     "end_time": "2024-05-08T19:18:50.138323",
     "exception": false,
     "start_time": "2024-05-08T19:18:50.118144",
     "status": "completed"
    },
    "tags": []
   },
   "source": [
    "> ## <mark>The result above shows that we deal with all missing data </mark>"
   ]
  },
  {
   "cell_type": "markdown",
   "id": "898da118",
   "metadata": {
    "papermill": {
     "duration": 0.02091,
     "end_time": "2024-05-08T19:18:50.179612",
     "exception": false,
     "start_time": "2024-05-08T19:18:50.158702",
     "status": "completed"
    },
    "tags": []
   },
   "source": [
    "### Now let's check duplicate value"
   ]
  },
  {
   "cell_type": "code",
   "execution_count": 12,
   "id": "8a75c2b0",
   "metadata": {
    "execution": {
     "iopub.execute_input": "2024-05-08T19:18:50.224473Z",
     "iopub.status.busy": "2024-05-08T19:18:50.224022Z",
     "iopub.status.idle": "2024-05-08T19:18:50.444357Z",
     "shell.execute_reply": "2024-05-08T19:18:50.442986Z"
    },
    "papermill": {
     "duration": 0.245305,
     "end_time": "2024-05-08T19:18:50.447038",
     "exception": false,
     "start_time": "2024-05-08T19:18:50.201733",
     "status": "completed"
    },
    "tags": []
   },
   "outputs": [
    {
     "name": "stdout",
     "output_type": "stream",
     "text": [
      "4\n"
     ]
    }
   ],
   "source": [
    "##  check duplicate in dataset\n",
    "print(df.duplicated().sum())"
   ]
  },
  {
   "cell_type": "markdown",
   "id": "03c9e674",
   "metadata": {
    "papermill": {
     "duration": 0.021079,
     "end_time": "2024-05-08T19:18:50.489125",
     "exception": false,
     "start_time": "2024-05-08T19:18:50.468046",
     "status": "completed"
    },
    "tags": []
   },
   "source": [
    "> ##If Not significant duplicated , so won't clean it \n",
    "\n",
    "\n",
    "### Now let's check the category columns to make more cleaning dataset "
   ]
  },
  {
   "cell_type": "code",
   "execution_count": 13,
   "id": "b0ca328c",
   "metadata": {
    "execution": {
     "iopub.execute_input": "2024-05-08T19:18:50.531712Z",
     "iopub.status.busy": "2024-05-08T19:18:50.531257Z",
     "iopub.status.idle": "2024-05-08T19:18:50.825026Z",
     "shell.execute_reply": "2024-05-08T19:18:50.823700Z"
    },
    "papermill": {
     "duration": 0.318114,
     "end_time": "2024-05-08T19:18:50.827691",
     "exception": false,
     "start_time": "2024-05-08T19:18:50.509577",
     "status": "completed"
    },
    "tags": []
   },
   "outputs": [
    {
     "data": {
      "text/html": [
       "<div>\n",
       "<style scoped>\n",
       "    .dataframe tbody tr th:only-of-type {\n",
       "        vertical-align: middle;\n",
       "    }\n",
       "\n",
       "    .dataframe tbody tr th {\n",
       "        vertical-align: top;\n",
       "    }\n",
       "\n",
       "    .dataframe thead th {\n",
       "        text-align: right;\n",
       "    }\n",
       "</style>\n",
       "<table border=\"1\" class=\"dataframe\">\n",
       "  <thead>\n",
       "    <tr style=\"text-align: right;\">\n",
       "      <th></th>\n",
       "      <th>start_time</th>\n",
       "      <th>end_time</th>\n",
       "      <th>user_type</th>\n",
       "      <th>member_gender</th>\n",
       "      <th>bike_share_for_all_trip</th>\n",
       "    </tr>\n",
       "  </thead>\n",
       "  <tbody>\n",
       "    <tr>\n",
       "      <th>count</th>\n",
       "      <td>183416</td>\n",
       "      <td>183416</td>\n",
       "      <td>183416</td>\n",
       "      <td>183416</td>\n",
       "      <td>183416</td>\n",
       "    </tr>\n",
       "    <tr>\n",
       "      <th>unique</th>\n",
       "      <td>35783</td>\n",
       "      <td>35767</td>\n",
       "      <td>2</td>\n",
       "      <td>3</td>\n",
       "      <td>2</td>\n",
       "    </tr>\n",
       "    <tr>\n",
       "      <th>top</th>\n",
       "      <td>33:48.5</td>\n",
       "      <td>22:24.4</td>\n",
       "      <td>Subscriber</td>\n",
       "      <td>Male</td>\n",
       "      <td>No</td>\n",
       "    </tr>\n",
       "    <tr>\n",
       "      <th>freq</th>\n",
       "      <td>16</td>\n",
       "      <td>20</td>\n",
       "      <td>163548</td>\n",
       "      <td>138920</td>\n",
       "      <td>166056</td>\n",
       "    </tr>\n",
       "  </tbody>\n",
       "</table>\n",
       "</div>"
      ],
      "text/plain": [
       "       start_time end_time   user_type member_gender bike_share_for_all_trip\n",
       "count      183416   183416      183416        183416                  183416\n",
       "unique      35783    35767           2             3                       2\n",
       "top       33:48.5  22:24.4  Subscriber          Male                      No\n",
       "freq           16       20      163548        138920                  166056"
      ]
     },
     "execution_count": 13,
     "metadata": {},
     "output_type": "execute_result"
    }
   ],
   "source": [
    "### check the category columns that included object\n",
    "df.describe(include = \"O\")\n"
   ]
  },
  {
   "cell_type": "markdown",
   "id": "c4d5c747",
   "metadata": {
    "papermill": {
     "duration": 0.020478,
     "end_time": "2024-05-08T19:18:50.869371",
     "exception": false,
     "start_time": "2024-05-08T19:18:50.848893",
     "status": "completed"
    },
    "tags": []
   },
   "source": [
    " > ## From all previous results above I found  :\n",
    " \n",
    " \n",
    " \n",
    " **=========================================================**\n",
    " \n",
    " \n",
    "\n",
    "> 1 ) **unique Value** as in ((`member_gender`)) : Not significant , so won't clean it\n",
    "\n",
    "\n",
    "\n",
    "> 2 ) **Incorrect data type** as in (( `user_type` &&\t`member_gender`)) :  significant change , so I need to clean it.\n",
    "\n",
    "\n",
    "> 3 ) **Good factor** for marketing work as in ((`member_birth_year`)) : so I need to clean it."
   ]
  },
  {
   "cell_type": "code",
   "execution_count": 14,
   "id": "6d5e42ea",
   "metadata": {
    "execution": {
     "iopub.execute_input": "2024-05-08T19:18:50.913447Z",
     "iopub.status.busy": "2024-05-08T19:18:50.912988Z",
     "iopub.status.idle": "2024-05-08T19:18:50.972279Z",
     "shell.execute_reply": "2024-05-08T19:18:50.970960Z"
    },
    "papermill": {
     "duration": 0.084749,
     "end_time": "2024-05-08T19:18:50.974963",
     "exception": false,
     "start_time": "2024-05-08T19:18:50.890214",
     "status": "completed"
    },
    "tags": []
   },
   "outputs": [],
   "source": [
    "##  step  2 ) Incorrect data type as  (( 'user_type' &&\t'member_gender')) :  significant change , so  need to clean it.\n",
    "df.user_type = df.user_type.astype('category')\n",
    "df.member_gender = df.member_gender.astype('category')"
   ]
  },
  {
   "cell_type": "code",
   "execution_count": 15,
   "id": "53487898",
   "metadata": {
    "execution": {
     "iopub.execute_input": "2024-05-08T19:18:51.019200Z",
     "iopub.status.busy": "2024-05-08T19:18:51.018738Z",
     "iopub.status.idle": "2024-05-08T19:18:51.083808Z",
     "shell.execute_reply": "2024-05-08T19:18:51.081907Z"
    },
    "papermill": {
     "duration": 0.090425,
     "end_time": "2024-05-08T19:18:51.086398",
     "exception": false,
     "start_time": "2024-05-08T19:18:50.995973",
     "status": "completed"
    },
    "tags": []
   },
   "outputs": [
    {
     "data": {
      "text/plain": [
       "duration_sec                  int64\n",
       "start_time                   object\n",
       "end_time                     object\n",
       "start_station_id            float64\n",
       "start_station_latitude      float64\n",
       "start_station_longitude     float64\n",
       "end_station_id              float64\n",
       "end_station_latitude        float64\n",
       "end_station_longitude       float64\n",
       "bike_id                       int64\n",
       "user_type                  category\n",
       "member_birth_year           float64\n",
       "member_gender              category\n",
       "bike_share_for_all_trip      object\n",
       "dtype: object"
      ]
     },
     "execution_count": 15,
     "metadata": {},
     "output_type": "execute_result"
    }
   ],
   "source": [
    "## check your work \n",
    "df.dtypes "
   ]
  },
  {
   "cell_type": "code",
   "execution_count": 16,
   "id": "8cad598c",
   "metadata": {
    "execution": {
     "iopub.execute_input": "2024-05-08T19:18:51.131723Z",
     "iopub.status.busy": "2024-05-08T19:18:51.130903Z",
     "iopub.status.idle": "2024-05-08T19:18:51.138039Z",
     "shell.execute_reply": "2024-05-08T19:18:51.136935Z"
    },
    "papermill": {
     "duration": 0.033714,
     "end_time": "2024-05-08T19:18:51.140820",
     "exception": false,
     "start_time": "2024-05-08T19:18:51.107106",
     "status": "completed"
    },
    "tags": []
   },
   "outputs": [],
   "source": [
    "## step 3 ) Good factor for marketing work as in ((`member_birth_year`)) : so need to clean it.\n",
    "## To know the target audience's age and serve on them\n",
    "# create a column for users' age depending on the current year \n",
    "df['age'] = 2024 - df['member_birth_year']\n"
   ]
  },
  {
   "cell_type": "code",
   "execution_count": 17,
   "id": "ebd88c51",
   "metadata": {
    "execution": {
     "iopub.execute_input": "2024-05-08T19:18:51.184908Z",
     "iopub.status.busy": "2024-05-08T19:18:51.184040Z",
     "iopub.status.idle": "2024-05-08T19:18:51.213533Z",
     "shell.execute_reply": "2024-05-08T19:18:51.212514Z"
    },
    "papermill": {
     "duration": 0.054775,
     "end_time": "2024-05-08T19:18:51.216222",
     "exception": false,
     "start_time": "2024-05-08T19:18:51.161447",
     "status": "completed"
    },
    "tags": []
   },
   "outputs": [
    {
     "data": {
      "text/html": [
       "<div>\n",
       "<style scoped>\n",
       "    .dataframe tbody tr th:only-of-type {\n",
       "        vertical-align: middle;\n",
       "    }\n",
       "\n",
       "    .dataframe tbody tr th {\n",
       "        vertical-align: top;\n",
       "    }\n",
       "\n",
       "    .dataframe thead th {\n",
       "        text-align: right;\n",
       "    }\n",
       "</style>\n",
       "<table border=\"1\" class=\"dataframe\">\n",
       "  <thead>\n",
       "    <tr style=\"text-align: right;\">\n",
       "      <th></th>\n",
       "      <th>bike_id</th>\n",
       "      <th>age</th>\n",
       "    </tr>\n",
       "  </thead>\n",
       "  <tbody>\n",
       "    <tr>\n",
       "      <th>0</th>\n",
       "      <td>4902</td>\n",
       "      <td>40.0</td>\n",
       "    </tr>\n",
       "    <tr>\n",
       "      <th>1</th>\n",
       "      <td>2535</td>\n",
       "      <td>36.0</td>\n",
       "    </tr>\n",
       "    <tr>\n",
       "      <th>2</th>\n",
       "      <td>5905</td>\n",
       "      <td>52.0</td>\n",
       "    </tr>\n",
       "    <tr>\n",
       "      <th>3</th>\n",
       "      <td>6638</td>\n",
       "      <td>35.0</td>\n",
       "    </tr>\n",
       "    <tr>\n",
       "      <th>4</th>\n",
       "      <td>4898</td>\n",
       "      <td>50.0</td>\n",
       "    </tr>\n",
       "    <tr>\n",
       "      <th>5</th>\n",
       "      <td>5200</td>\n",
       "      <td>65.0</td>\n",
       "    </tr>\n",
       "    <tr>\n",
       "      <th>6</th>\n",
       "      <td>3803</td>\n",
       "      <td>41.0</td>\n",
       "    </tr>\n",
       "    <tr>\n",
       "      <th>7</th>\n",
       "      <td>6329</td>\n",
       "      <td>35.0</td>\n",
       "    </tr>\n",
       "    <tr>\n",
       "      <th>8</th>\n",
       "      <td>6548</td>\n",
       "      <td>36.0</td>\n",
       "    </tr>\n",
       "    <tr>\n",
       "      <th>9</th>\n",
       "      <td>6488</td>\n",
       "      <td>32.0</td>\n",
       "    </tr>\n",
       "  </tbody>\n",
       "</table>\n",
       "</div>"
      ],
      "text/plain": [
       "   bike_id   age\n",
       "0     4902  40.0\n",
       "1     2535  36.0\n",
       "2     5905  52.0\n",
       "3     6638  35.0\n",
       "4     4898  50.0\n",
       "5     5200  65.0\n",
       "6     3803  41.0\n",
       "7     6329  35.0\n",
       "8     6548  36.0\n",
       "9     6488  32.0"
      ]
     },
     "execution_count": 17,
     "metadata": {},
     "output_type": "execute_result"
    }
   ],
   "source": [
    "## check your work \n",
    "\n",
    "df[['bike_id' ,'age']].head(10)"
   ]
  },
  {
   "cell_type": "code",
   "execution_count": 18,
   "id": "129b23cd",
   "metadata": {
    "execution": {
     "iopub.execute_input": "2024-05-08T19:18:51.263527Z",
     "iopub.status.busy": "2024-05-08T19:18:51.262711Z",
     "iopub.status.idle": "2024-05-08T19:18:51.348559Z",
     "shell.execute_reply": "2024-05-08T19:18:51.346960Z"
    },
    "papermill": {
     "duration": 0.114638,
     "end_time": "2024-05-08T19:18:51.351803",
     "exception": false,
     "start_time": "2024-05-08T19:18:51.237165",
     "status": "completed"
    },
    "tags": []
   },
   "outputs": [],
   "source": [
    "## change the new column age data type from float to int\n",
    "df.age = df.age.astype(int)"
   ]
  },
  {
   "cell_type": "code",
   "execution_count": 19,
   "id": "148630fe",
   "metadata": {
    "execution": {
     "iopub.execute_input": "2024-05-08T19:18:51.398506Z",
     "iopub.status.busy": "2024-05-08T19:18:51.397193Z",
     "iopub.status.idle": "2024-05-08T19:18:51.406308Z",
     "shell.execute_reply": "2024-05-08T19:18:51.405081Z"
    },
    "papermill": {
     "duration": 0.03367,
     "end_time": "2024-05-08T19:18:51.408765",
     "exception": false,
     "start_time": "2024-05-08T19:18:51.375095",
     "status": "completed"
    },
    "tags": []
   },
   "outputs": [
    {
     "name": "stdout",
     "output_type": "stream",
     "text": [
      "39.049592183887995\n"
     ]
    }
   ],
   "source": [
    "## create a function to know the average users ages\n",
    "print(np.average(df.age))"
   ]
  },
  {
   "cell_type": "code",
   "execution_count": 20,
   "id": "4a619022",
   "metadata": {
    "execution": {
     "iopub.execute_input": "2024-05-08T19:18:51.452980Z",
     "iopub.status.busy": "2024-05-08T19:18:51.452540Z",
     "iopub.status.idle": "2024-05-08T19:18:51.464247Z",
     "shell.execute_reply": "2024-05-08T19:18:51.462991Z"
    },
    "papermill": {
     "duration": 0.037035,
     "end_time": "2024-05-08T19:18:51.467115",
     "exception": false,
     "start_time": "2024-05-08T19:18:51.430080",
     "status": "completed"
    },
    "tags": []
   },
   "outputs": [],
   "source": [
    "## another important factor to offer  marketing services is the trip duration time \n",
    "## need to change the time from second to minute to be more usable\n",
    "df['duration_min'] = (df.duration_sec / 60)"
   ]
  },
  {
   "cell_type": "code",
   "execution_count": 21,
   "id": "f39d9e69",
   "metadata": {
    "execution": {
     "iopub.execute_input": "2024-05-08T19:18:51.511089Z",
     "iopub.status.busy": "2024-05-08T19:18:51.510671Z",
     "iopub.status.idle": "2024-05-08T19:18:51.519872Z",
     "shell.execute_reply": "2024-05-08T19:18:51.518620Z"
    },
    "papermill": {
     "duration": 0.034249,
     "end_time": "2024-05-08T19:18:51.522448",
     "exception": false,
     "start_time": "2024-05-08T19:18:51.488199",
     "status": "completed"
    },
    "tags": []
   },
   "outputs": [
    {
     "data": {
      "text/plain": [
       "0     14.495833\n",
       "1     11.811389\n",
       "2     17.181667\n",
       "3     10.136111\n",
       "4      0.440278\n",
       "5      0.498056\n",
       "6      0.318611\n",
       "7      0.448611\n",
       "8      0.436111\n",
       "9      0.291389\n",
       "10     0.127222\n",
       "11     0.140556\n",
       "12     0.326667\n",
       "13     0.254167\n",
       "14     0.109722\n",
       "15     0.057778\n",
       "16     0.152222\n",
       "17     0.187222\n",
       "18     0.154722\n",
       "19     0.242778\n",
       "Name: duration_hrs, dtype: float64"
      ]
     },
     "execution_count": 21,
     "metadata": {},
     "output_type": "execute_result"
    }
   ],
   "source": [
    "## I need to change the time from second to Houre to be more usable\n",
    "df['duration_hrs'] = (df.duration_min / 60)\n",
    "df.duration_hrs.head(20)"
   ]
  },
  {
   "cell_type": "code",
   "execution_count": 22,
   "id": "bf214403",
   "metadata": {},
   "outputs": [
    {
     "data": {
      "text/html": [
       "<div>\n",
       "<style scoped>\n",
       "    .dataframe tbody tr th:only-of-type {\n",
       "        vertical-align: middle;\n",
       "    }\n",
       "\n",
       "    .dataframe tbody tr th {\n",
       "        vertical-align: top;\n",
       "    }\n",
       "\n",
       "    .dataframe thead th {\n",
       "        text-align: right;\n",
       "    }\n",
       "</style>\n",
       "<table border=\"1\" class=\"dataframe\">\n",
       "  <thead>\n",
       "    <tr style=\"text-align: right;\">\n",
       "      <th></th>\n",
       "      <th>duration_sec</th>\n",
       "      <th>start_time</th>\n",
       "      <th>end_time</th>\n",
       "      <th>start_station_id</th>\n",
       "      <th>start_station_latitude</th>\n",
       "      <th>start_station_longitude</th>\n",
       "      <th>end_station_id</th>\n",
       "      <th>end_station_latitude</th>\n",
       "      <th>end_station_longitude</th>\n",
       "      <th>bike_id</th>\n",
       "      <th>user_type</th>\n",
       "      <th>member_birth_year</th>\n",
       "      <th>member_gender</th>\n",
       "      <th>bike_share_for_all_trip</th>\n",
       "      <th>age</th>\n",
       "      <th>duration_min</th>\n",
       "      <th>duration_hrs</th>\n",
       "    </tr>\n",
       "  </thead>\n",
       "  <tbody>\n",
       "    <tr>\n",
       "      <th>0</th>\n",
       "      <td>52185</td>\n",
       "      <td>32:10.1</td>\n",
       "      <td>01:56.0</td>\n",
       "      <td>21.0</td>\n",
       "      <td>37.789625</td>\n",
       "      <td>-122.400811</td>\n",
       "      <td>13.0</td>\n",
       "      <td>37.794231</td>\n",
       "      <td>-122.402923</td>\n",
       "      <td>4902</td>\n",
       "      <td>Customer</td>\n",
       "      <td>1984.0</td>\n",
       "      <td>Male</td>\n",
       "      <td>No</td>\n",
       "      <td>40</td>\n",
       "      <td>869.750000</td>\n",
       "      <td>14.495833</td>\n",
       "    </tr>\n",
       "    <tr>\n",
       "      <th>1</th>\n",
       "      <td>42521</td>\n",
       "      <td>53:21.8</td>\n",
       "      <td>42:03.1</td>\n",
       "      <td>23.0</td>\n",
       "      <td>37.791464</td>\n",
       "      <td>-122.391034</td>\n",
       "      <td>81.0</td>\n",
       "      <td>37.775880</td>\n",
       "      <td>-122.393170</td>\n",
       "      <td>2535</td>\n",
       "      <td>Customer</td>\n",
       "      <td>1988.0</td>\n",
       "      <td>Male</td>\n",
       "      <td>No</td>\n",
       "      <td>36</td>\n",
       "      <td>708.683333</td>\n",
       "      <td>11.811389</td>\n",
       "    </tr>\n",
       "    <tr>\n",
       "      <th>2</th>\n",
       "      <td>61854</td>\n",
       "      <td>13:13.2</td>\n",
       "      <td>24:08.1</td>\n",
       "      <td>86.0</td>\n",
       "      <td>37.769305</td>\n",
       "      <td>-122.426826</td>\n",
       "      <td>3.0</td>\n",
       "      <td>37.786375</td>\n",
       "      <td>-122.404904</td>\n",
       "      <td>5905</td>\n",
       "      <td>Customer</td>\n",
       "      <td>1972.0</td>\n",
       "      <td>Male</td>\n",
       "      <td>No</td>\n",
       "      <td>52</td>\n",
       "      <td>1030.900000</td>\n",
       "      <td>17.181667</td>\n",
       "    </tr>\n",
       "    <tr>\n",
       "      <th>3</th>\n",
       "      <td>36490</td>\n",
       "      <td>54:26.0</td>\n",
       "      <td>02:36.8</td>\n",
       "      <td>375.0</td>\n",
       "      <td>37.774836</td>\n",
       "      <td>-122.446546</td>\n",
       "      <td>70.0</td>\n",
       "      <td>37.773311</td>\n",
       "      <td>-122.444293</td>\n",
       "      <td>6638</td>\n",
       "      <td>Subscriber</td>\n",
       "      <td>1989.0</td>\n",
       "      <td>Other</td>\n",
       "      <td>No</td>\n",
       "      <td>35</td>\n",
       "      <td>608.166667</td>\n",
       "      <td>10.136111</td>\n",
       "    </tr>\n",
       "    <tr>\n",
       "      <th>4</th>\n",
       "      <td>1585</td>\n",
       "      <td>54:18.5</td>\n",
       "      <td>20:44.1</td>\n",
       "      <td>7.0</td>\n",
       "      <td>37.804562</td>\n",
       "      <td>-122.271738</td>\n",
       "      <td>222.0</td>\n",
       "      <td>37.792714</td>\n",
       "      <td>-122.248780</td>\n",
       "      <td>4898</td>\n",
       "      <td>Subscriber</td>\n",
       "      <td>1974.0</td>\n",
       "      <td>Male</td>\n",
       "      <td>Yes</td>\n",
       "      <td>50</td>\n",
       "      <td>26.416667</td>\n",
       "      <td>0.440278</td>\n",
       "    </tr>\n",
       "    <tr>\n",
       "      <th>...</th>\n",
       "      <td>...</td>\n",
       "      <td>...</td>\n",
       "      <td>...</td>\n",
       "      <td>...</td>\n",
       "      <td>...</td>\n",
       "      <td>...</td>\n",
       "      <td>...</td>\n",
       "      <td>...</td>\n",
       "      <td>...</td>\n",
       "      <td>...</td>\n",
       "      <td>...</td>\n",
       "      <td>...</td>\n",
       "      <td>...</td>\n",
       "      <td>...</td>\n",
       "      <td>...</td>\n",
       "      <td>...</td>\n",
       "      <td>...</td>\n",
       "    </tr>\n",
       "    <tr>\n",
       "      <th>183411</th>\n",
       "      <td>271</td>\n",
       "      <td>00:20.6</td>\n",
       "      <td>04:52.1</td>\n",
       "      <td>24.0</td>\n",
       "      <td>37.789677</td>\n",
       "      <td>-122.390428</td>\n",
       "      <td>37.0</td>\n",
       "      <td>37.785000</td>\n",
       "      <td>-122.395936</td>\n",
       "      <td>1057</td>\n",
       "      <td>Subscriber</td>\n",
       "      <td>1989.0</td>\n",
       "      <td>Male</td>\n",
       "      <td>No</td>\n",
       "      <td>35</td>\n",
       "      <td>4.516667</td>\n",
       "      <td>0.075278</td>\n",
       "    </tr>\n",
       "    <tr>\n",
       "      <th>183412</th>\n",
       "      <td>313</td>\n",
       "      <td>05:34.7</td>\n",
       "      <td>10:48.5</td>\n",
       "      <td>21.0</td>\n",
       "      <td>37.789625</td>\n",
       "      <td>-122.400811</td>\n",
       "      <td>66.0</td>\n",
       "      <td>37.778742</td>\n",
       "      <td>-122.392741</td>\n",
       "      <td>4960</td>\n",
       "      <td>Subscriber</td>\n",
       "      <td>1984.0</td>\n",
       "      <td>Male</td>\n",
       "      <td>No</td>\n",
       "      <td>40</td>\n",
       "      <td>5.216667</td>\n",
       "      <td>0.086944</td>\n",
       "    </tr>\n",
       "    <tr>\n",
       "      <th>183413</th>\n",
       "      <td>141</td>\n",
       "      <td>06:05.5</td>\n",
       "      <td>08:27.2</td>\n",
       "      <td>278.0</td>\n",
       "      <td>37.331932</td>\n",
       "      <td>-121.904888</td>\n",
       "      <td>277.0</td>\n",
       "      <td>37.333658</td>\n",
       "      <td>-121.908586</td>\n",
       "      <td>3824</td>\n",
       "      <td>Subscriber</td>\n",
       "      <td>1990.0</td>\n",
       "      <td>Male</td>\n",
       "      <td>Yes</td>\n",
       "      <td>34</td>\n",
       "      <td>2.350000</td>\n",
       "      <td>0.039167</td>\n",
       "    </tr>\n",
       "    <tr>\n",
       "      <th>183414</th>\n",
       "      <td>139</td>\n",
       "      <td>05:34.4</td>\n",
       "      <td>07:54.3</td>\n",
       "      <td>220.0</td>\n",
       "      <td>37.811351</td>\n",
       "      <td>-122.273422</td>\n",
       "      <td>216.0</td>\n",
       "      <td>37.817827</td>\n",
       "      <td>-122.275698</td>\n",
       "      <td>5095</td>\n",
       "      <td>Subscriber</td>\n",
       "      <td>1988.0</td>\n",
       "      <td>Male</td>\n",
       "      <td>No</td>\n",
       "      <td>36</td>\n",
       "      <td>2.316667</td>\n",
       "      <td>0.038611</td>\n",
       "    </tr>\n",
       "    <tr>\n",
       "      <th>183415</th>\n",
       "      <td>271</td>\n",
       "      <td>00:20.6</td>\n",
       "      <td>04:52.1</td>\n",
       "      <td>24.0</td>\n",
       "      <td>37.789677</td>\n",
       "      <td>-122.390428</td>\n",
       "      <td>37.0</td>\n",
       "      <td>37.785000</td>\n",
       "      <td>-122.395936</td>\n",
       "      <td>1057</td>\n",
       "      <td>Subscriber</td>\n",
       "      <td>1989.0</td>\n",
       "      <td>Male</td>\n",
       "      <td>No</td>\n",
       "      <td>35</td>\n",
       "      <td>4.516667</td>\n",
       "      <td>0.075278</td>\n",
       "    </tr>\n",
       "  </tbody>\n",
       "</table>\n",
       "<p>183416 rows × 17 columns</p>\n",
       "</div>"
      ],
      "text/plain": [
       "        duration_sec start_time end_time  start_station_id  \\\n",
       "0              52185    32:10.1  01:56.0              21.0   \n",
       "1              42521    53:21.8  42:03.1              23.0   \n",
       "2              61854    13:13.2  24:08.1              86.0   \n",
       "3              36490    54:26.0  02:36.8             375.0   \n",
       "4               1585    54:18.5  20:44.1               7.0   \n",
       "...              ...        ...      ...               ...   \n",
       "183411           271    00:20.6  04:52.1              24.0   \n",
       "183412           313    05:34.7  10:48.5              21.0   \n",
       "183413           141    06:05.5  08:27.2             278.0   \n",
       "183414           139    05:34.4  07:54.3             220.0   \n",
       "183415           271    00:20.6  04:52.1              24.0   \n",
       "\n",
       "        start_station_latitude  start_station_longitude  end_station_id  \\\n",
       "0                    37.789625              -122.400811            13.0   \n",
       "1                    37.791464              -122.391034            81.0   \n",
       "2                    37.769305              -122.426826             3.0   \n",
       "3                    37.774836              -122.446546            70.0   \n",
       "4                    37.804562              -122.271738           222.0   \n",
       "...                        ...                      ...             ...   \n",
       "183411               37.789677              -122.390428            37.0   \n",
       "183412               37.789625              -122.400811            66.0   \n",
       "183413               37.331932              -121.904888           277.0   \n",
       "183414               37.811351              -122.273422           216.0   \n",
       "183415               37.789677              -122.390428            37.0   \n",
       "\n",
       "        end_station_latitude  end_station_longitude  bike_id   user_type  \\\n",
       "0                  37.794231            -122.402923     4902    Customer   \n",
       "1                  37.775880            -122.393170     2535    Customer   \n",
       "2                  37.786375            -122.404904     5905    Customer   \n",
       "3                  37.773311            -122.444293     6638  Subscriber   \n",
       "4                  37.792714            -122.248780     4898  Subscriber   \n",
       "...                      ...                    ...      ...         ...   \n",
       "183411             37.785000            -122.395936     1057  Subscriber   \n",
       "183412             37.778742            -122.392741     4960  Subscriber   \n",
       "183413             37.333658            -121.908586     3824  Subscriber   \n",
       "183414             37.817827            -122.275698     5095  Subscriber   \n",
       "183415             37.785000            -122.395936     1057  Subscriber   \n",
       "\n",
       "        member_birth_year member_gender bike_share_for_all_trip  age  \\\n",
       "0                  1984.0          Male                      No   40   \n",
       "1                  1988.0          Male                      No   36   \n",
       "2                  1972.0          Male                      No   52   \n",
       "3                  1989.0         Other                      No   35   \n",
       "4                  1974.0          Male                     Yes   50   \n",
       "...                   ...           ...                     ...  ...   \n",
       "183411             1989.0          Male                      No   35   \n",
       "183412             1984.0          Male                      No   40   \n",
       "183413             1990.0          Male                     Yes   34   \n",
       "183414             1988.0          Male                      No   36   \n",
       "183415             1989.0          Male                      No   35   \n",
       "\n",
       "        duration_min  duration_hrs  \n",
       "0         869.750000     14.495833  \n",
       "1         708.683333     11.811389  \n",
       "2        1030.900000     17.181667  \n",
       "3         608.166667     10.136111  \n",
       "4          26.416667      0.440278  \n",
       "...              ...           ...  \n",
       "183411      4.516667      0.075278  \n",
       "183412      5.216667      0.086944  \n",
       "183413      2.350000      0.039167  \n",
       "183414      2.316667      0.038611  \n",
       "183415      4.516667      0.075278  \n",
       "\n",
       "[183416 rows x 17 columns]"
      ]
     },
     "execution_count": 22,
     "metadata": {},
     "output_type": "execute_result"
    }
   ],
   "source": [
    "## check your work \n",
    "df"
   ]
  },
  {
   "cell_type": "markdown",
   "id": "893a8c3e",
   "metadata": {
    "papermill": {
     "duration": 0.020482,
     "end_time": "2024-05-08T19:18:51.605502",
     "exception": false,
     "start_time": "2024-05-08T19:18:51.585020",
     "status": "completed"
    },
    "tags": []
   },
   "source": [
    "\n",
    "# <p style=\"border-radius:15px;border-style:solid;border-color:lightblue;border-width:3px;background-color:lightblue;padding: 20px;font-family:Verdana;color:#D81F26;font-size:30px;text-align: center;\">Univariate Exploration</p>\n",
    "# <a id=\"011\"> Univariate Exploration</a>\n",
    "\n",
    "\n",
    "\n",
    "> In this section, investigate distributions of individual variables. If\n",
    "you see unusual points or outliers, take a deeper look to clean things up\n",
    "and prepare yourself to look at relationships between variables.\n",
    "\n"
   ]
  },
  {
   "cell_type": "markdown",
   "id": "ce56e6be",
   "metadata": {
    "papermill": {
     "duration": 0.021833,
     "end_time": "2024-05-08T19:18:51.649191",
     "exception": false,
     "start_time": "2024-05-08T19:18:51.627358",
     "status": "completed"
    },
    "tags": []
   },
   "source": [
    "\n",
    "# <a id=\"1\"> 1 ) . What is the distribution for User type?</a>"
   ]
  },
  {
   "cell_type": "code",
   "execution_count": 23,
   "id": "1a5e0fb9",
   "metadata": {},
   "outputs": [
    {
     "data": {
      "image/png": "[encoded data removed]",
      "text/plain": [
       "<Figure size 800x300 with 1 Axes>"
      ]
     },
     "metadata": {},
     "output_type": "display_data"
    }
   ],
   "source": [
    "plt.figure(figsize = (8,3))\n",
    "plot = sns.countplot(data=df, x='user_type')\n",
    "plt.xlabel('User distribution')\n",
    "plt.ylabel('Frequency')\n",
    "plt.title(\"Represent the Customers distribution depending on their type\")\n",
    "\n",
    "plt.show()"
   ]
  },
  {
   "cell_type": "code",
   "execution_count": 24,
   "id": "24d80c08",
   "metadata": {},
   "outputs": [
    {
     "data": {
      "text/plain": [
       "Index(['duration_sec', 'start_time', 'end_time', 'start_station_id',\n",
       "       'start_station_latitude', 'start_station_longitude', 'end_station_id',\n",
       "       'end_station_latitude', 'end_station_longitude', 'bike_id', 'user_type',\n",
       "       'member_birth_year', 'member_gender', 'bike_share_for_all_trip', 'age',\n",
       "       'duration_min', 'duration_hrs'],\n",
       "      dtype='object')"
      ]
     },
     "execution_count": 24,
     "metadata": {},
     "output_type": "execute_result"
    }
   ],
   "source": [
    "df.columns"
   ]
  },
  {
   "cell_type": "code",
   "execution_count": 25,
   "id": "785dec68",
   "metadata": {},
   "outputs": [
    {
     "data": {
      "image/png": "[encoded data removed]",
      "text/plain": [
       "<Figure size 800x300 with 1 Axes>"
      ]
     },
     "metadata": {},
     "output_type": "display_data"
    }
   ],
   "source": [
    "plt.figure(figsize = (8,3))\n",
    "plot = sns.countplot(data = df, x = 'member_gender')\n",
    "plt.xlabel('gender')\n",
    "plt.ylabel('number')\n",
    "plt.title(\"Represent the Customers distribution depending on their gender\")\n",
    "plt.show()"
   ]
  },
  {
   "cell_type": "markdown",
   "id": "1ab6a61e",
   "metadata": {
    "papermill": {
     "duration": 0.022984,
     "end_time": "2024-05-08T19:18:52.190739",
     "exception": false,
     "start_time": "2024-05-08T19:18:52.167755",
     "status": "completed"
    },
    "tags": []
   },
   "source": [
    "# <a id=\"2\"> 2 ) What is the distribution for the bike share users on all Trips?</a>"
   ]
  },
  {
   "cell_type": "code",
   "execution_count": 26,
   "id": "364ffa81",
   "metadata": {
    "papermill": {
     "duration": 0.024808,
     "end_time": "2024-05-08T19:18:52.704181",
     "exception": false,
     "start_time": "2024-05-08T19:18:52.679373",
     "status": "completed"
    },
    "tags": []
   },
   "outputs": [
    {
     "data": {
      "image/png": "[encoded data removed]",
      "text/plain": [
       "<Figure size 700x300 with 1 Axes>"
      ]
     },
     "metadata": {},
     "output_type": "display_data"
    }
   ],
   "source": [
    "plt.figure(figsize = (7,3))\n",
    "\n",
    "plot = sns.countplot(data=df, x = 'bike_share_for_all_trip')\n",
    "\n",
    "plt.xlabel('User distribution')\n",
    "plt.ylabel('Frequency')\n",
    "plt.title(\"Represent the user's distribution depending on being a part of the Trips Program\")\n",
    "\n",
    "plt.show()"
   ]
  },
  {
   "cell_type": "markdown",
   "id": "4a656681",
   "metadata": {
    "papermill": {
     "duration": 0.024421,
     "end_time": "2024-05-08T19:18:52.752898",
     "exception": false,
     "start_time": "2024-05-08T19:18:52.728477",
     "status": "completed"
    },
    "tags": []
   },
   "source": [
    "# <a id=\"3\"> 3 ) What is the distribution for users' ages? </a>"
   ]
  },
  {
   "cell_type": "code",
   "execution_count": 27,
   "id": "aaddc041",
   "metadata": {
    "papermill": {
     "duration": 0.024745,
     "end_time": "2024-05-08T19:18:53.219658",
     "exception": false,
     "start_time": "2024-05-08T19:18:53.194913",
     "status": "completed"
    },
    "tags": []
   },
   "outputs": [
    {
     "data": {
      "text/plain": [
       "Text(0.5, 1.0, ' users_distribution_Age')"
      ]
     },
     "execution_count": 27,
     "metadata": {},
     "output_type": "execute_result"
    },
    {
     "data": {
      "image/png": "[encoded data removed]",
      "text/plain": [
       "<Figure size 1000x500 with 1 Axes>"
      ]
     },
     "metadata": {},
     "output_type": "display_data"
    }
   ],
   "source": [
    "plt.figure(figsize = (10,5))\n",
    "df['age'].hist(bins= 20)\n",
    "plt.xlabel(' Age_distribution')\n",
    "plt.ylabel('Frequency')\n",
    "plt.title(\" users_distribution_Age\")"
   ]
  },
  {
   "cell_type": "markdown",
   "id": "01e99ec2",
   "metadata": {
    "papermill": {
     "duration": 0.024025,
     "end_time": "2024-05-08T19:18:53.268701",
     "exception": false,
     "start_time": "2024-05-08T19:18:53.244676",
     "status": "completed"
    },
    "tags": []
   },
   "source": [
    "\n",
    "# <a id=\"4\">  4 ) . Do the users' ages have outlier values?</a>\n"
   ]
  },
  {
   "cell_type": "code",
   "execution_count": 28,
   "id": "94649142",
   "metadata": {
    "execution": {
     "iopub.execute_input": "2022-07-30T03:30:06.647115Z",
     "iopub.status.busy": "2022-07-30T03:30:06.646700Z",
     "iopub.status.idle": "2022-07-30T03:30:06.654926Z",
     "shell.execute_reply": "2022-07-30T03:30:06.652763Z",
     "shell.execute_reply.started": "2022-07-30T03:30:06.647081Z"
    },
    "papermill": {
     "duration": 0.023611,
     "end_time": "2024-05-08T19:18:53.316739",
     "exception": false,
     "start_time": "2024-05-08T19:18:53.293128",
     "status": "completed"
    },
    "tags": []
   },
   "outputs": [
    {
     "data": {
      "image/png": "[encoded data removed]",
      "text/plain": [
       "<Figure size 1000x500 with 1 Axes>"
      ]
     },
     "metadata": {},
     "output_type": "display_data"
    }
   ],
   "source": [
    "plt.figure(figsize = (10,5))\n",
    "plt.boxplot(df['age'], vert=False)\n",
    "plt.show()"
   ]
  },
  {
   "cell_type": "markdown",
   "id": "3812a3ba",
   "metadata": {},
   "source": [
    "- The chart above shows that we got an outlier for user's age older than 140 years old "
   ]
  },
  {
   "cell_type": "markdown",
   "id": "9594cf70",
   "metadata": {
    "papermill": {
     "duration": 0.025594,
     "end_time": "2024-05-08T19:18:53.787206",
     "exception": false,
     "start_time": "2024-05-08T19:18:53.761612",
     "status": "completed"
    },
    "tags": []
   },
   "source": [
    "# <a id=\"5\">  5 ) . What is the distribution for the trip duration in minutes? </a>"
   ]
  },
  {
   "cell_type": "code",
   "execution_count": 29,
   "id": "b16e11f1",
   "metadata": {
    "execution": {
     "iopub.execute_input": "2024-05-08T19:18:53.841097Z",
     "iopub.status.busy": "2024-05-08T19:18:53.840678Z",
     "iopub.status.idle": "2024-05-08T19:18:53.858264Z",
     "shell.execute_reply": "2024-05-08T19:18:53.857077Z"
    },
    "papermill": {
     "duration": 0.047619,
     "end_time": "2024-05-08T19:18:53.860818",
     "exception": false,
     "start_time": "2024-05-08T19:18:53.813199",
     "status": "completed"
    },
    "tags": []
   },
   "outputs": [
    {
     "data": {
      "text/html": [
       "<div>\n",
       "<style scoped>\n",
       "    .dataframe tbody tr th:only-of-type {\n",
       "        vertical-align: middle;\n",
       "    }\n",
       "\n",
       "    .dataframe tbody tr th {\n",
       "        vertical-align: top;\n",
       "    }\n",
       "\n",
       "    .dataframe thead th {\n",
       "        text-align: right;\n",
       "    }\n",
       "</style>\n",
       "<table border=\"1\" class=\"dataframe\">\n",
       "  <thead>\n",
       "    <tr style=\"text-align: right;\">\n",
       "      <th></th>\n",
       "      <th>duration_min</th>\n",
       "    </tr>\n",
       "  </thead>\n",
       "  <tbody>\n",
       "    <tr>\n",
       "      <th>count</th>\n",
       "      <td>183416.000000</td>\n",
       "    </tr>\n",
       "    <tr>\n",
       "      <th>mean</th>\n",
       "      <td>12.101122</td>\n",
       "    </tr>\n",
       "    <tr>\n",
       "      <th>std</th>\n",
       "      <td>29.906197</td>\n",
       "    </tr>\n",
       "    <tr>\n",
       "      <th>min</th>\n",
       "      <td>1.016667</td>\n",
       "    </tr>\n",
       "    <tr>\n",
       "      <th>25%</th>\n",
       "      <td>5.416667</td>\n",
       "    </tr>\n",
       "    <tr>\n",
       "      <th>50%</th>\n",
       "      <td>8.566667</td>\n",
       "    </tr>\n",
       "    <tr>\n",
       "      <th>75%</th>\n",
       "      <td>13.266667</td>\n",
       "    </tr>\n",
       "    <tr>\n",
       "      <th>max</th>\n",
       "      <td>1424.066667</td>\n",
       "    </tr>\n",
       "  </tbody>\n",
       "</table>\n",
       "</div>"
      ],
      "text/plain": [
       "        duration_min\n",
       "count  183416.000000\n",
       "mean       12.101122\n",
       "std        29.906197\n",
       "min         1.016667\n",
       "25%         5.416667\n",
       "50%         8.566667\n",
       "75%        13.266667\n",
       "max      1424.066667"
      ]
     },
     "execution_count": 29,
     "metadata": {},
     "output_type": "execute_result"
    }
   ],
   "source": [
    "## Review the statistic for trip duration in minutes\n",
    "df[['duration_min']].describe() "
   ]
  },
  {
   "cell_type": "code",
   "execution_count": 30,
   "id": "bf5247de",
   "metadata": {
    "execution": {
     "iopub.execute_input": "2024-05-08T19:18:53.914860Z",
     "iopub.status.busy": "2024-05-08T19:18:53.914418Z",
     "iopub.status.idle": "2024-05-08T19:18:54.342662Z",
     "shell.execute_reply": "2024-05-08T19:18:54.341115Z"
    },
    "papermill": {
     "duration": 0.458722,
     "end_time": "2024-05-08T19:18:54.345708",
     "exception": false,
     "start_time": "2024-05-08T19:18:53.886986",
     "status": "completed"
    },
    "tags": []
   },
   "outputs": [
    {
     "data": {
      "text/plain": [
       "Text(0.5, 1.0, 'Represent Trip duration in minutes')"
      ]
     },
     "execution_count": 30,
     "metadata": {},
     "output_type": "execute_result"
    },
    {
     "data": {
      "image/png": "[encoded data removed]",
      "text/plain": [
       "<Figure size 1000x500 with 1 Axes>"
      ]
     },
     "metadata": {},
     "output_type": "display_data"
    }
   ],
   "source": [
    "# Make visualization to easy get insight \n",
    "plt.figure(figsize = (10,5))\n",
    "df['duration_min'].hist(bins=60)\n",
    "plt.xlim(0, 60)\n",
    "plt.title(\"Represent Trip duration in minutes\") "
   ]
  },
  {
   "cell_type": "markdown",
   "id": "6d91b7f7",
   "metadata": {
    "papermill": {
     "duration": 0.027594,
     "end_time": "2024-05-08T19:18:54.401179",
     "exception": false,
     "start_time": "2024-05-08T19:18:54.373585",
     "status": "completed"
    },
    "tags": []
   },
   "source": [
    "The chart shows that most of users trip for less than half_hour"
   ]
  },
  {
   "cell_type": "markdown",
   "id": "d563360f",
   "metadata": {
    "papermill": {
     "duration": 0.027079,
     "end_time": "2024-05-08T19:18:54.456767",
     "exception": false,
     "start_time": "2024-05-08T19:18:54.429688",
     "status": "completed"
    },
    "tags": []
   },
   "source": [
    "\n",
    "# <a id=\"6\"> 6 ) . What is the distribution for member_gender?</a>"
   ]
  },
  {
   "cell_type": "code",
   "execution_count": 31,
   "id": "65500a29",
   "metadata": {
    "execution": {
     "iopub.execute_input": "2024-05-08T19:18:54.515785Z",
     "iopub.status.busy": "2024-05-08T19:18:54.514596Z",
     "iopub.status.idle": "2024-05-08T19:18:54.814861Z",
     "shell.execute_reply": "2024-05-08T19:18:54.813659Z"
    },
    "papermill": {
     "duration": 0.332401,
     "end_time": "2024-05-08T19:18:54.817557",
     "exception": false,
     "start_time": "2024-05-08T19:18:54.485156",
     "status": "completed"
    },
    "tags": []
   },
   "outputs": [
    {
     "data": {
      "image/png": "[encoded data removed]",
      "text/plain": [
       "<Figure size 800x400 with 1 Axes>"
      ]
     },
     "metadata": {},
     "output_type": "display_data"
    }
   ],
   "source": [
    "plt.figure(figsize = (8, 4))\n",
    "plot = sns.countplot(data=df, x = 'member_gender')\n",
    "plt.xlabel('gender distribution')\n",
    "plt.ylabel('Frequency')\n",
    "plt.title(\"Represent the user's distribution depending on being a part of the Trips Program\")\n",
    "plt.show()"
   ]
  },
  {
   "cell_type": "markdown",
   "id": "4629d35e",
   "metadata": {
    "papermill": {
     "duration": 0.028038,
     "end_time": "2024-05-08T19:18:54.874400",
     "exception": false,
     "start_time": "2024-05-08T19:18:54.846362",
     "status": "completed"
    },
    "tags": []
   },
   "source": [
    "- Majority of members are male"
   ]
  },
  {
   "cell_type": "markdown",
   "id": "ae88af93",
   "metadata": {
    "papermill": {
     "duration": 0.030323,
     "end_time": "2024-05-08T19:18:54.933945",
     "exception": false,
     "start_time": "2024-05-08T19:18:54.903622",
     "status": "completed"
    },
    "tags": []
   },
   "source": [
    "# <a id=\"7\">    7 )  . What is the distribution for the trip duration in Hours?  </a>"
   ]
  },
  {
   "cell_type": "code",
   "execution_count": 32,
   "id": "d7bee747",
   "metadata": {
    "execution": {
     "iopub.execute_input": "2024-05-08T19:18:54.995677Z",
     "iopub.status.busy": "2024-05-08T19:18:54.995210Z",
     "iopub.status.idle": "2024-05-08T19:18:55.351354Z",
     "shell.execute_reply": "2024-05-08T19:18:55.350021Z"
    },
    "papermill": {
     "duration": 0.38995,
     "end_time": "2024-05-08T19:18:55.354065",
     "exception": false,
     "start_time": "2024-05-08T19:18:54.964115",
     "status": "completed"
    },
    "tags": []
   },
   "outputs": [
    {
     "data": {
      "text/plain": [
       "Text(0.5, 1.0, 'Represent Trip duration in minutes')"
      ]
     },
     "execution_count": 32,
     "metadata": {},
     "output_type": "execute_result"
    },
    {
     "data": {
      "image/png": "[encoded data removed]",
      "text/plain": [
       "<Figure size 1000x500 with 1 Axes>"
      ]
     },
     "metadata": {},
     "output_type": "display_data"
    }
   ],
   "source": [
    "# Make visualization to easy get insight\n",
    "plt.figure(figsize = (10,5))\n",
    "df['duration_hrs'].hist(bins=60)\n",
    "plt.xlim(0, 1)\n",
    "plt.title(\"Represent Trip duration in minutes\")\n"
   ]
  },
  {
   "cell_type": "markdown",
   "id": "8c34fabf",
   "metadata": {
    "papermill": {
     "duration": 0.029429,
     "end_time": "2024-05-08T19:18:55.413759",
     "exception": false,
     "start_time": "2024-05-08T19:18:55.384330",
     "status": "completed"
    },
    "tags": []
   },
   "source": [
    "> ### <mark>Majority of the users trip for less than half an hour  </mark>"
   ]
  },
  {
   "cell_type": "markdown",
   "id": "796695d2",
   "metadata": {
    "papermill": {
     "duration": 0.029701,
     "end_time": "2024-05-08T19:18:55.475214",
     "exception": false,
     "start_time": "2024-05-08T19:18:55.445513",
     "status": "completed"
    },
    "tags": []
   },
   "source": [
    "### The variables distribution:\n",
    "\n",
    "\n",
    "> The distribution of duration present that most of the trips were less than 30 minutes ( we can notice that from the minutes and the hour charts )\n",
    "\n",
    "\n",
    "> And the Age distribution is ( left Skewed ) as most users age are  22 - 39\n",
    "\n",
    "\n",
    "> Most users are subscribers, not Customers and  Males as shown in the charts above.\n",
    "\n",
    "\n",
    "\n",
    "### Were there any interesting and outliers \n",
    "\n",
    "\n",
    "- We got Age outliers for more than 100 .\n",
    "\n",
    "\n",
    "\n",
    "- The distribution of duration was strange where the minutes and the hour charts were 30 minutes or less."
   ]
  },
  {
   "cell_type": "markdown",
   "id": "e77f0d7b",
   "metadata": {
    "papermill": {
     "duration": 0.030295,
     "end_time": "2024-05-08T19:18:55.535533",
     "exception": false,
     "start_time": "2024-05-08T19:18:55.505238",
     "status": "completed"
    },
    "tags": []
   },
   "source": [
    "# <p style=\"border-radius:15px;border-style:solid;border-color:lightblue;border-width:3px;background-color:lightblue;padding: 20px;font-family:Verdana;color:#D81F26;font-size:30px;text-align: center;\">Bivariate Exploration</p>\n",
    "# <a id=\"111\"> Bivariate Exploration</a>\n",
    "\n",
    "Now let's investigate relationships between pairs of variables in our data."
   ]
  },
  {
   "cell_type": "markdown",
   "id": "18cb1241",
   "metadata": {
    "papermill": {
     "duration": 0.031188,
     "end_time": "2024-05-08T19:18:55.597833",
     "exception": false,
     "start_time": "2024-05-08T19:18:55.566645",
     "status": "completed"
    },
    "tags": []
   },
   "source": [
    "# <a id=\"8\"> 8) . What the average duration of trip for the categories of user type?</a>"
   ]
  },
  {
   "cell_type": "markdown",
   "id": "2e3e4474",
   "metadata": {},
   "source": [
    "# Make visualization to easy get insight\n"
   ]
  },
  {
   "cell_type": "code",
   "execution_count": 33,
   "id": "1bc30891",
   "metadata": {
    "execution": {
     "iopub.execute_input": "2024-05-08T19:18:55.663148Z",
     "iopub.status.busy": "2024-05-08T19:18:55.662682Z",
     "iopub.status.idle": "2024-05-08T19:18:55.889207Z",
     "shell.execute_reply": "2024-05-08T19:18:55.887947Z"
    },
    "papermill": {
     "duration": 0.262594,
     "end_time": "2024-05-08T19:18:55.892095",
     "exception": false,
     "start_time": "2024-05-08T19:18:55.629501",
     "status": "completed"
    },
    "tags": []
   },
   "outputs": [
    {
     "data": {
      "image/png": "[encoded data removed]",
      "text/plain": [
       "<Figure size 1000x500 with 1 Axes>"
      ]
     },
     "metadata": {},
     "output_type": "display_data"
    }
   ],
   "source": [
    "# Distribution of Age by user types\n",
    "plt.figure(figsize = (10,5))\n",
    "sns.boxplot(data=df, x = \"user_type\", y='age')\n",
    "plt.title(\"distribution of Age and type\")\n",
    "plt.show()"
   ]
  },
  {
   "cell_type": "markdown",
   "id": "aadd20d4",
   "metadata": {
    "papermill": {
     "duration": 0.029335,
     "end_time": "2024-05-08T19:18:56.013896",
     "exception": false,
     "start_time": "2024-05-08T19:18:55.984561",
     "status": "completed"
    },
    "tags": []
   },
   "source": [
    "# <a id=\"9\">    9 ) . How long is the duration of the trip for each gender in minutes?  </a>"
   ]
  },
  {
   "cell_type": "code",
   "execution_count": 34,
   "id": "c5cfff86",
   "metadata": {
    "execution": {
     "iopub.execute_input": "2024-05-08T19:18:56.075806Z",
     "iopub.status.busy": "2024-05-08T19:18:56.074968Z",
     "iopub.status.idle": "2024-05-08T19:18:58.998551Z",
     "shell.execute_reply": "2024-05-08T19:18:58.997208Z"
    },
    "papermill": {
     "duration": 2.958578,
     "end_time": "2024-05-08T19:18:59.002139",
     "exception": false,
     "start_time": "2024-05-08T19:18:56.043561",
     "status": "completed"
    },
    "tags": []
   },
   "outputs": [
    {
     "data": {
      "image/png": "[encoded data removed]",
      "text/plain": [
       "<Figure size 1000x500 with 1 Axes>"
      ]
     },
     "metadata": {},
     "output_type": "display_data"
    }
   ],
   "source": [
    "# Make visualization to easy get insight\n",
    "# Duration distribution by member gender\n",
    "plt.figure(figsize = (10,5))\n",
    "sns.barplot(data = df, x = \"member_gender\", y = \"duration_min\")\n",
    "plt.title(\"the duration of the trip for each gender in min\")\n",
    "plt.show()"
   ]
  },
  {
   "cell_type": "markdown",
   "id": "aee81203",
   "metadata": {},
   "source": [
    "> ### <mark>Males and Females avardge trip around 12 min </mark>"
   ]
  },
  {
   "cell_type": "markdown",
   "id": "695f4dd0",
   "metadata": {
    "papermill": {
     "duration": 0.032573,
     "end_time": "2024-05-08T19:18:59.128580",
     "exception": false,
     "start_time": "2024-05-08T19:18:59.096007",
     "status": "completed"
    },
    "tags": []
   },
   "source": [
    "# <a id=\"10 \"> 10 ) . How long is the duration of the trip for each user_type in minutes?  </a>"
   ]
  },
  {
   "cell_type": "code",
   "execution_count": 35,
   "id": "a9af5bd1",
   "metadata": {
    "execution": {
     "iopub.execute_input": "2024-05-08T19:18:59.193725Z",
     "iopub.status.busy": "2024-05-08T19:18:59.193329Z",
     "iopub.status.idle": "2024-05-08T19:18:59.370471Z",
     "shell.execute_reply": "2024-05-08T19:18:59.369530Z"
    },
    "papermill": {
     "duration": 0.213174,
     "end_time": "2024-05-08T19:18:59.372944",
     "exception": false,
     "start_time": "2024-05-08T19:18:59.159770",
     "status": "completed"
    },
    "tags": []
   },
   "outputs": [
    {
     "data": {
      "image/png": "[encoded data removed]",
      "text/plain": [
       "<Figure size 1000x500 with 1 Axes>"
      ]
     },
     "metadata": {},
     "output_type": "display_data"
    }
   ],
   "source": [
    "# Make visualization to easy get insight\n",
    "# Make visualization to easy get insight\n",
    "# Duration distribution by member gender\n",
    "plt.figure(figsize = (10,5))\n",
    "sns.barplot(data = df, x = \"user_type\", y = \"duration_min\")\n",
    "plt.title(\"the duration of the trip for each user type in min\")\n",
    "plt.show()"
   ]
  },
  {
   "cell_type": "markdown",
   "id": "2fbfffdd",
   "metadata": {
    "papermill": {
     "duration": 0.030586,
     "end_time": "2024-05-08T19:18:59.436672",
     "exception": false,
     "start_time": "2024-05-08T19:18:59.406086",
     "status": "completed"
    },
    "tags": []
   },
   "source": [
    "> ### <mark> customers trip more than subscriber </mark>"
   ]
  },
  {
   "cell_type": "markdown",
   "id": "1c031115",
   "metadata": {
    "papermill": {
     "duration": 0.030853,
     "end_time": "2024-05-08T19:18:59.500064",
     "exception": false,
     "start_time": "2024-05-08T19:18:59.469211",
     "status": "completed"
    },
    "tags": []
   },
   "source": [
    "# <a id=\"11\">  11 ) . How the user distribution depending on their Age and user_type ? </a>"
   ]
  },
  {
   "cell_type": "code",
   "execution_count": 36,
   "id": "3b90bb19",
   "metadata": {
    "execution": {
     "iopub.execute_input": "2024-05-08T19:18:59.566719Z",
     "iopub.status.busy": "2024-05-08T19:18:59.566085Z",
     "iopub.status.idle": "2024-05-08T19:18:59.912305Z",
     "shell.execute_reply": "2024-05-08T19:18:59.911119Z"
    },
    "papermill": {
     "duration": 0.382956,
     "end_time": "2024-05-08T19:18:59.915371",
     "exception": false,
     "start_time": "2024-05-08T19:18:59.532415",
     "status": "completed"
    },
    "tags": []
   },
   "outputs": [
    {
     "data": {
      "text/plain": [
       "Text(0.5, 1.0, ' user distribution depending on their Age , user_type')"
      ]
     },
     "execution_count": 36,
     "metadata": {},
     "output_type": "execute_result"
    },
    {
     "data": {
      "image/png": "[encoded data removed]",
      "text/plain": [
       "<Figure size 1000x500 with 1 Axes>"
      ]
     },
     "metadata": {},
     "output_type": "display_data"
    }
   ],
   "source": [
    "plt.figure(figsize = (10,5))\n",
    "sns.boxplot(data=df ,x = \"user_type\" ,y = \"age\" ,color = 'blue')\n",
    "plt.title(\" user distribution depending on their Age , user_type\")"
   ]
  },
  {
   "cell_type": "markdown",
   "id": "4cbe24d3",
   "metadata": {
    "papermill": {
     "duration": 0.031741,
     "end_time": "2024-05-08T19:18:59.980930",
     "exception": false,
     "start_time": "2024-05-08T19:18:59.949189",
     "status": "completed"
    },
    "tags": []
   },
   "source": [
    "> ### <mark> </mark>"
   ]
  },
  {
   "cell_type": "markdown",
   "id": "2b64f4e9",
   "metadata": {
    "papermill": {
     "duration": 0.033128,
     "end_time": "2024-05-08T19:19:00.046934",
     "exception": false,
     "start_time": "2024-05-08T19:19:00.013806",
     "status": "completed"
    },
    "tags": []
   },
   "source": [
    "#  <a id=\"12\"> 12 ). How the user distribution depending on their Age and member_gender ?</a>"
   ]
  },
  {
   "cell_type": "code",
   "execution_count": 37,
   "id": "6dacd14a",
   "metadata": {
    "execution": {
     "iopub.execute_input": "2024-05-08T19:19:00.114966Z",
     "iopub.status.busy": "2024-05-08T19:19:00.114490Z",
     "iopub.status.idle": "2024-05-08T19:19:00.491590Z",
     "shell.execute_reply": "2024-05-08T19:19:00.490321Z"
    },
    "papermill": {
     "duration": 0.415016,
     "end_time": "2024-05-08T19:19:00.495267",
     "exception": false,
     "start_time": "2024-05-08T19:19:00.080251",
     "status": "completed"
    },
    "tags": []
   },
   "outputs": [
    {
     "data": {
      "text/plain": [
       "Text(0.5, 1.0, ' user distribution depending on their Age , member_gender')"
      ]
     },
     "execution_count": 37,
     "metadata": {},
     "output_type": "execute_result"
    },
    {
     "data": {
      "image/png": "[encoded data removed]",
      "text/plain": [
       "<Figure size 1000x500 with 1 Axes>"
      ]
     },
     "metadata": {},
     "output_type": "display_data"
    }
   ],
   "source": [
    "# Make visualization to easy get insight\n",
    "plt.figure(figsize = (10,5))\n",
    "sns.boxplot(data=df ,x = \"member_gender\", y = \"age\", color = 'blue')\n",
    "plt.title(\" user distribution depending on their Age , member_gender\")"
   ]
  },
  {
   "cell_type": "markdown",
   "id": "2dd41e12",
   "metadata": {
    "papermill": {
     "duration": 0.033401,
     "end_time": "2024-05-08T19:19:00.565677",
     "exception": false,
     "start_time": "2024-05-08T19:19:00.532276",
     "status": "completed"
    },
    "tags": []
   },
   "source": [
    "> ### <mark>The Users female are more than others </mark>"
   ]
  },
  {
   "cell_type": "markdown",
   "id": "e8970237",
   "metadata": {
    "papermill": {
     "duration": 0.033295,
     "end_time": "2024-05-08T19:19:00.633271",
     "exception": false,
     "start_time": "2024-05-08T19:19:00.599976",
     "status": "completed"
    },
    "tags": []
   },
   "source": [
    "### Talk about some of the relationships you observed in this part of the investigation. How did the feature(s) of interest vary with other features in the dataset?\n",
    "> Customers go on a longer trip than Subscribers where the User Customer are more than Subscriber"
   ]
  },
  {
   "cell_type": "markdown",
   "id": "be04d446",
   "metadata": {
    "papermill": {
     "duration": 0.03374,
     "end_time": "2024-05-08T19:19:00.701869",
     "exception": false,
     "start_time": "2024-05-08T19:19:00.668129",
     "status": "completed"
    },
    "tags": []
   },
   "source": [
    "# <p style=\"border-radius:15px;border-style:solid;border-color:lightblue;border-width:3px;background-color:lightblue;padding: 20px;font-family:Verdana;color:#D81F26;font-size:30px;text-align: center;\">Multivariate Exploration</p>\n",
    "# <a id=\"1111\"> Multivariate Exploration </a>\n",
    "\n",
    "> Create plots of three or more variables to investigate your data even\n",
    "further. Make sure that your investigations are justified, and follow from\n",
    "your work in the previous sections."
   ]
  },
  {
   "cell_type": "code",
   "execution_count": 38,
   "id": "25e175fc",
   "metadata": {},
   "outputs": [
    {
     "data": {
      "text/html": [
       "<div>\n",
       "<style scoped>\n",
       "    .dataframe tbody tr th:only-of-type {\n",
       "        vertical-align: middle;\n",
       "    }\n",
       "\n",
       "    .dataframe tbody tr th {\n",
       "        vertical-align: top;\n",
       "    }\n",
       "\n",
       "    .dataframe thead th {\n",
       "        text-align: right;\n",
       "    }\n",
       "</style>\n",
       "<table border=\"1\" class=\"dataframe\">\n",
       "  <thead>\n",
       "    <tr style=\"text-align: right;\">\n",
       "      <th></th>\n",
       "      <th>duration_sec</th>\n",
       "      <th>start_time</th>\n",
       "      <th>end_time</th>\n",
       "      <th>start_station_id</th>\n",
       "      <th>start_station_latitude</th>\n",
       "      <th>start_station_longitude</th>\n",
       "      <th>end_station_id</th>\n",
       "      <th>end_station_latitude</th>\n",
       "      <th>end_station_longitude</th>\n",
       "      <th>bike_id</th>\n",
       "      <th>user_type</th>\n",
       "      <th>member_birth_year</th>\n",
       "      <th>member_gender</th>\n",
       "      <th>bike_share_for_all_trip</th>\n",
       "      <th>age</th>\n",
       "      <th>duration_min</th>\n",
       "      <th>duration_hrs</th>\n",
       "    </tr>\n",
       "  </thead>\n",
       "  <tbody>\n",
       "    <tr>\n",
       "      <th>0</th>\n",
       "      <td>52185</td>\n",
       "      <td>32:10.1</td>\n",
       "      <td>01:56.0</td>\n",
       "      <td>21.0</td>\n",
       "      <td>37.789625</td>\n",
       "      <td>-122.400811</td>\n",
       "      <td>13.0</td>\n",
       "      <td>37.794231</td>\n",
       "      <td>-122.402923</td>\n",
       "      <td>4902</td>\n",
       "      <td>Customer</td>\n",
       "      <td>1984.0</td>\n",
       "      <td>Male</td>\n",
       "      <td>No</td>\n",
       "      <td>40</td>\n",
       "      <td>869.750000</td>\n",
       "      <td>14.495833</td>\n",
       "    </tr>\n",
       "    <tr>\n",
       "      <th>1</th>\n",
       "      <td>42521</td>\n",
       "      <td>53:21.8</td>\n",
       "      <td>42:03.1</td>\n",
       "      <td>23.0</td>\n",
       "      <td>37.791464</td>\n",
       "      <td>-122.391034</td>\n",
       "      <td>81.0</td>\n",
       "      <td>37.775880</td>\n",
       "      <td>-122.393170</td>\n",
       "      <td>2535</td>\n",
       "      <td>Customer</td>\n",
       "      <td>1988.0</td>\n",
       "      <td>Male</td>\n",
       "      <td>No</td>\n",
       "      <td>36</td>\n",
       "      <td>708.683333</td>\n",
       "      <td>11.811389</td>\n",
       "    </tr>\n",
       "    <tr>\n",
       "      <th>2</th>\n",
       "      <td>61854</td>\n",
       "      <td>13:13.2</td>\n",
       "      <td>24:08.1</td>\n",
       "      <td>86.0</td>\n",
       "      <td>37.769305</td>\n",
       "      <td>-122.426826</td>\n",
       "      <td>3.0</td>\n",
       "      <td>37.786375</td>\n",
       "      <td>-122.404904</td>\n",
       "      <td>5905</td>\n",
       "      <td>Customer</td>\n",
       "      <td>1972.0</td>\n",
       "      <td>Male</td>\n",
       "      <td>No</td>\n",
       "      <td>52</td>\n",
       "      <td>1030.900000</td>\n",
       "      <td>17.181667</td>\n",
       "    </tr>\n",
       "    <tr>\n",
       "      <th>3</th>\n",
       "      <td>36490</td>\n",
       "      <td>54:26.0</td>\n",
       "      <td>02:36.8</td>\n",
       "      <td>375.0</td>\n",
       "      <td>37.774836</td>\n",
       "      <td>-122.446546</td>\n",
       "      <td>70.0</td>\n",
       "      <td>37.773311</td>\n",
       "      <td>-122.444293</td>\n",
       "      <td>6638</td>\n",
       "      <td>Subscriber</td>\n",
       "      <td>1989.0</td>\n",
       "      <td>Other</td>\n",
       "      <td>No</td>\n",
       "      <td>35</td>\n",
       "      <td>608.166667</td>\n",
       "      <td>10.136111</td>\n",
       "    </tr>\n",
       "    <tr>\n",
       "      <th>4</th>\n",
       "      <td>1585</td>\n",
       "      <td>54:18.5</td>\n",
       "      <td>20:44.1</td>\n",
       "      <td>7.0</td>\n",
       "      <td>37.804562</td>\n",
       "      <td>-122.271738</td>\n",
       "      <td>222.0</td>\n",
       "      <td>37.792714</td>\n",
       "      <td>-122.248780</td>\n",
       "      <td>4898</td>\n",
       "      <td>Subscriber</td>\n",
       "      <td>1974.0</td>\n",
       "      <td>Male</td>\n",
       "      <td>Yes</td>\n",
       "      <td>50</td>\n",
       "      <td>26.416667</td>\n",
       "      <td>0.440278</td>\n",
       "    </tr>\n",
       "  </tbody>\n",
       "</table>\n",
       "</div>"
      ],
      "text/plain": [
       "   duration_sec start_time end_time  start_station_id  start_station_latitude  \\\n",
       "0         52185    32:10.1  01:56.0              21.0               37.789625   \n",
       "1         42521    53:21.8  42:03.1              23.0               37.791464   \n",
       "2         61854    13:13.2  24:08.1              86.0               37.769305   \n",
       "3         36490    54:26.0  02:36.8             375.0               37.774836   \n",
       "4          1585    54:18.5  20:44.1               7.0               37.804562   \n",
       "\n",
       "   start_station_longitude  end_station_id  end_station_latitude  \\\n",
       "0              -122.400811            13.0             37.794231   \n",
       "1              -122.391034            81.0             37.775880   \n",
       "2              -122.426826             3.0             37.786375   \n",
       "3              -122.446546            70.0             37.773311   \n",
       "4              -122.271738           222.0             37.792714   \n",
       "\n",
       "   end_station_longitude  bike_id   user_type  member_birth_year  \\\n",
       "0            -122.402923     4902    Customer             1984.0   \n",
       "1            -122.393170     2535    Customer             1988.0   \n",
       "2            -122.404904     5905    Customer             1972.0   \n",
       "3            -122.444293     6638  Subscriber             1989.0   \n",
       "4            -122.248780     4898  Subscriber             1974.0   \n",
       "\n",
       "  member_gender bike_share_for_all_trip  age  duration_min  duration_hrs  \n",
       "0          Male                      No   40    869.750000     14.495833  \n",
       "1          Male                      No   36    708.683333     11.811389  \n",
       "2          Male                      No   52   1030.900000     17.181667  \n",
       "3         Other                      No   35    608.166667     10.136111  \n",
       "4          Male                     Yes   50     26.416667      0.440278  "
      ]
     },
     "execution_count": 38,
     "metadata": {},
     "output_type": "execute_result"
    }
   ],
   "source": [
    "df.head()"
   ]
  },
  {
   "cell_type": "markdown",
   "id": "ade8b4be",
   "metadata": {
    "papermill": {
     "duration": 0.034492,
     "end_time": "2024-05-08T19:19:00.771230",
     "exception": false,
     "start_time": "2024-05-08T19:19:00.736738",
     "status": "completed"
    },
    "tags": []
   },
   "source": [
    "\n",
    "# <a id=\"13\">  13 ) . What is the  Correlation between each variable in the dataset?</a>"
   ]
  },
  {
   "cell_type": "code",
   "execution_count": 40,
   "id": "2379fa24",
   "metadata": {},
   "outputs": [
    {
     "data": {
      "text/plain": [
       "duration_sec                  int64\n",
       "start_time                   object\n",
       "end_time                     object\n",
       "start_station_id            float64\n",
       "start_station_latitude      float64\n",
       "start_station_longitude     float64\n",
       "end_station_id              float64\n",
       "end_station_latitude        float64\n",
       "end_station_longitude       float64\n",
       "bike_id                       int64\n",
       "user_type                  category\n",
       "member_birth_year           float64\n",
       "member_gender              category\n",
       "bike_share_for_all_trip      object\n",
       "age                           int64\n",
       "duration_min                float64\n",
       "duration_hrs                float64\n",
       "dtype: object"
      ]
     },
     "execution_count": 40,
     "metadata": {},
     "output_type": "execute_result"
    }
   ],
   "source": [
    "df.dtypes\n"
   ]
  },
  {
   "cell_type": "code",
   "execution_count": null,
   "id": "ddba4e75",
   "metadata": {
    "execution": {
     "iopub.execute_input": "2024-05-08T19:19:00.842561Z",
     "iopub.status.busy": "2024-05-08T19:19:00.841730Z",
     "iopub.status.idle": "2024-05-08T19:19:02.331091Z",
     "shell.execute_reply": "2024-05-08T19:19:02.329589Z"
    },
    "papermill": {
     "duration": 1.531842,
     "end_time": "2024-05-08T19:19:02.338068",
     "exception": false,
     "start_time": "2024-05-08T19:19:00.806226",
     "status": "completed"
    },
    "tags": []
   },
   "outputs": [
    {
     "ename": "ValueError",
     "evalue": "could not convert string to float: '32:10.1'",
     "output_type": "error",
     "traceback": [
      "\u001b[1;31m---------------------------------------------------------------------------\u001b[0m",
      "\u001b[1;31mValueError\u001b[0m                                Traceback (most recent call last)",
      "Cell \u001b[1;32mIn[39], line 6\u001b[0m\n\u001b[0;32m      1\u001b[0m \u001b[38;5;66;03m# Make visualization to easy get insight\u001b[39;00m\n\u001b[0;32m      2\u001b[0m plt\u001b[38;5;241m.\u001b[39mfigure(figsize \u001b[38;5;241m=\u001b[39m (\u001b[38;5;241m10\u001b[39m,\u001b[38;5;241m5\u001b[39m), dpi \u001b[38;5;241m=\u001b[39m \u001b[38;5;241m200\u001b[39m)\n\u001b[1;32m----> 6\u001b[0m sns\u001b[38;5;241m.\u001b[39mheatmap(\u001b[43mdf\u001b[49m\u001b[38;5;241;43m.\u001b[39;49m\u001b[43mcorr\u001b[49m\u001b[43m(\u001b[49m\u001b[43m)\u001b[49m, annot \u001b[38;5;241m=\u001b[39m \u001b[38;5;28;01mTrue\u001b[39;00m, fmt \u001b[38;5;241m=\u001b[39m \u001b[38;5;124m'\u001b[39m\u001b[38;5;124m.2f\u001b[39m\u001b[38;5;124m'\u001b[39m, cmap \u001b[38;5;241m=\u001b[39m \u001b[38;5;124m'\u001b[39m\u001b[38;5;124mvlag_r\u001b[39m\u001b[38;5;124m'\u001b[39m, center \u001b[38;5;241m=\u001b[39m \u001b[38;5;241m0\u001b[39m)\n\u001b[0;32m      8\u001b[0m plt\u001b[38;5;241m.\u001b[39mtitle(\u001b[38;5;124m\"\u001b[39m\u001b[38;5;124m What is the  Correlation between each variable in the dataset?\u001b[39m\u001b[38;5;124m\"\u001b[39m)\n\u001b[0;32m     11\u001b[0m plt\u001b[38;5;241m.\u001b[39mxticks(rotation \u001b[38;5;241m=\u001b[39m \u001b[38;5;241m90\u001b[39m)\n",
      "File \u001b[1;32m~\\AppData\\Local\\Packages\\PythonSoftwareFoundation.Python.3.12_qbz5n2kfra8p0\\LocalCache\\local-packages\\Python312\\site-packages\\pandas\\core\\frame.py:11049\u001b[0m, in \u001b[0;36mDataFrame.corr\u001b[1;34m(self, method, min_periods, numeric_only)\u001b[0m\n\u001b[0;32m  11047\u001b[0m cols \u001b[38;5;241m=\u001b[39m data\u001b[38;5;241m.\u001b[39mcolumns\n\u001b[0;32m  11048\u001b[0m idx \u001b[38;5;241m=\u001b[39m cols\u001b[38;5;241m.\u001b[39mcopy()\n\u001b[1;32m> 11049\u001b[0m mat \u001b[38;5;241m=\u001b[39m \u001b[43mdata\u001b[49m\u001b[38;5;241;43m.\u001b[39;49m\u001b[43mto_numpy\u001b[49m\u001b[43m(\u001b[49m\u001b[43mdtype\u001b[49m\u001b[38;5;241;43m=\u001b[39;49m\u001b[38;5;28;43mfloat\u001b[39;49m\u001b[43m,\u001b[49m\u001b[43m \u001b[49m\u001b[43mna_value\u001b[49m\u001b[38;5;241;43m=\u001b[39;49m\u001b[43mnp\u001b[49m\u001b[38;5;241;43m.\u001b[39;49m\u001b[43mnan\u001b[49m\u001b[43m,\u001b[49m\u001b[43m \u001b[49m\u001b[43mcopy\u001b[49m\u001b[38;5;241;43m=\u001b[39;49m\u001b[38;5;28;43;01mFalse\u001b[39;49;00m\u001b[43m)\u001b[49m\n\u001b[0;32m  11051\u001b[0m \u001b[38;5;28;01mif\u001b[39;00m method \u001b[38;5;241m==\u001b[39m \u001b[38;5;124m\"\u001b[39m\u001b[38;5;124mpearson\u001b[39m\u001b[38;5;124m\"\u001b[39m:\n\u001b[0;32m  11052\u001b[0m     correl \u001b[38;5;241m=\u001b[39m libalgos\u001b[38;5;241m.\u001b[39mnancorr(mat, minp\u001b[38;5;241m=\u001b[39mmin_periods)\n",
      "File \u001b[1;32m~\\AppData\\Local\\Packages\\PythonSoftwareFoundation.Python.3.12_qbz5n2kfra8p0\\LocalCache\\local-packages\\Python312\\site-packages\\pandas\\core\\frame.py:1993\u001b[0m, in \u001b[0;36mDataFrame.to_numpy\u001b[1;34m(self, dtype, copy, na_value)\u001b[0m\n\u001b[0;32m   1991\u001b[0m \u001b[38;5;28;01mif\u001b[39;00m dtype \u001b[38;5;129;01mis\u001b[39;00m \u001b[38;5;129;01mnot\u001b[39;00m \u001b[38;5;28;01mNone\u001b[39;00m:\n\u001b[0;32m   1992\u001b[0m     dtype \u001b[38;5;241m=\u001b[39m np\u001b[38;5;241m.\u001b[39mdtype(dtype)\n\u001b[1;32m-> 1993\u001b[0m result \u001b[38;5;241m=\u001b[39m \u001b[38;5;28;43mself\u001b[39;49m\u001b[38;5;241;43m.\u001b[39;49m\u001b[43m_mgr\u001b[49m\u001b[38;5;241;43m.\u001b[39;49m\u001b[43mas_array\u001b[49m\u001b[43m(\u001b[49m\u001b[43mdtype\u001b[49m\u001b[38;5;241;43m=\u001b[39;49m\u001b[43mdtype\u001b[49m\u001b[43m,\u001b[49m\u001b[43m \u001b[49m\u001b[43mcopy\u001b[49m\u001b[38;5;241;43m=\u001b[39;49m\u001b[43mcopy\u001b[49m\u001b[43m,\u001b[49m\u001b[43m \u001b[49m\u001b[43mna_value\u001b[49m\u001b[38;5;241;43m=\u001b[39;49m\u001b[43mna_value\u001b[49m\u001b[43m)\u001b[49m\n\u001b[0;32m   1994\u001b[0m \u001b[38;5;28;01mif\u001b[39;00m result\u001b[38;5;241m.\u001b[39mdtype \u001b[38;5;129;01mis\u001b[39;00m \u001b[38;5;129;01mnot\u001b[39;00m dtype:\n\u001b[0;32m   1995\u001b[0m     result \u001b[38;5;241m=\u001b[39m np\u001b[38;5;241m.\u001b[39masarray(result, dtype\u001b[38;5;241m=\u001b[39mdtype)\n",
      "File \u001b[1;32m~\\AppData\\Local\\Packages\\PythonSoftwareFoundation.Python.3.12_qbz5n2kfra8p0\\LocalCache\\local-packages\\Python312\\site-packages\\pandas\\core\\internals\\managers.py:1694\u001b[0m, in \u001b[0;36mBlockManager.as_array\u001b[1;34m(self, dtype, copy, na_value)\u001b[0m\n\u001b[0;32m   1692\u001b[0m         arr\u001b[38;5;241m.\u001b[39mflags\u001b[38;5;241m.\u001b[39mwriteable \u001b[38;5;241m=\u001b[39m \u001b[38;5;28;01mFalse\u001b[39;00m\n\u001b[0;32m   1693\u001b[0m \u001b[38;5;28;01melse\u001b[39;00m:\n\u001b[1;32m-> 1694\u001b[0m     arr \u001b[38;5;241m=\u001b[39m \u001b[38;5;28;43mself\u001b[39;49m\u001b[38;5;241;43m.\u001b[39;49m\u001b[43m_interleave\u001b[49m\u001b[43m(\u001b[49m\u001b[43mdtype\u001b[49m\u001b[38;5;241;43m=\u001b[39;49m\u001b[43mdtype\u001b[49m\u001b[43m,\u001b[49m\u001b[43m \u001b[49m\u001b[43mna_value\u001b[49m\u001b[38;5;241;43m=\u001b[39;49m\u001b[43mna_value\u001b[49m\u001b[43m)\u001b[49m\n\u001b[0;32m   1695\u001b[0m     \u001b[38;5;66;03m# The underlying data was copied within _interleave, so no need\u001b[39;00m\n\u001b[0;32m   1696\u001b[0m     \u001b[38;5;66;03m# to further copy if copy=True or setting na_value\u001b[39;00m\n\u001b[0;32m   1698\u001b[0m \u001b[38;5;28;01mif\u001b[39;00m na_value \u001b[38;5;129;01mis\u001b[39;00m lib\u001b[38;5;241m.\u001b[39mno_default:\n",
      "File \u001b[1;32m~\\AppData\\Local\\Packages\\PythonSoftwareFoundation.Python.3.12_qbz5n2kfra8p0\\LocalCache\\local-packages\\Python312\\site-packages\\pandas\\core\\internals\\managers.py:1753\u001b[0m, in \u001b[0;36mBlockManager._interleave\u001b[1;34m(self, dtype, na_value)\u001b[0m\n\u001b[0;32m   1751\u001b[0m     \u001b[38;5;28;01melse\u001b[39;00m:\n\u001b[0;32m   1752\u001b[0m         arr \u001b[38;5;241m=\u001b[39m blk\u001b[38;5;241m.\u001b[39mget_values(dtype)\n\u001b[1;32m-> 1753\u001b[0m     \u001b[43mresult\u001b[49m\u001b[43m[\u001b[49m\u001b[43mrl\u001b[49m\u001b[38;5;241;43m.\u001b[39;49m\u001b[43mindexer\u001b[49m\u001b[43m]\u001b[49m \u001b[38;5;241m=\u001b[39m arr\n\u001b[0;32m   1754\u001b[0m     itemmask[rl\u001b[38;5;241m.\u001b[39mindexer] \u001b[38;5;241m=\u001b[39m \u001b[38;5;241m1\u001b[39m\n\u001b[0;32m   1756\u001b[0m \u001b[38;5;28;01mif\u001b[39;00m \u001b[38;5;129;01mnot\u001b[39;00m itemmask\u001b[38;5;241m.\u001b[39mall():\n",
      "\u001b[1;31mValueError\u001b[0m: could not convert string to float: '32:10.1'"
     ]
    },
    {
     "data": {
      "text/plain": [
       "<Figure size 2000x1000 with 0 Axes>"
      ]
     },
     "metadata": {},
     "output_type": "display_data"
    }
   ],
   "source": [
    "# Make visualization to easy get insight\n",
    "plt.figure(figsize = (10,5))\n",
    "sns.heatmap(df.corr(), annot = True, fmt = '.2f', cmap = 'vlag_r', center = 0)\n",
    "plt.xticks(rotation = 90)\n",
    "plt.legend(bbox_to_anchor=(1.05, 1), loc='upper left')\n",
    "plt.show()"
   ]
  },
  {
   "cell_type": "markdown",
   "id": "81bf674a",
   "metadata": {
    "papermill": {
     "duration": 0.040414,
     "end_time": "2024-05-08T19:19:02.419056",
     "exception": false,
     "start_time": "2024-05-08T19:19:02.378642",
     "status": "completed"
    },
    "tags": []
   },
   "source": [
    "\n",
    "\n",
    "> ### <mark>Your analsys and exploration here </mark>\n",
    "\n",
    "Example usage\n",
    "- There is `no Correlation` for any variable with time ( `duration sec /minutes/hours`)\n"
   ]
  },
  {
   "cell_type": "markdown",
   "id": "0de8bcef",
   "metadata": {
    "papermill": {
     "duration": 0.041216,
     "end_time": "2024-05-08T19:19:02.501874",
     "exception": false,
     "start_time": "2024-05-08T19:19:02.460658",
     "status": "completed"
    },
    "tags": []
   },
   "source": [
    "\n",
    "# <a id=\"14\"> 14 )  .  What is the  Correlation between `specific numeric variables` in the dataset?</a>\n"
   ]
  },
  {
   "cell_type": "code",
   "execution_count": null,
   "id": "4e1851c8",
   "metadata": {
    "execution": {
     "iopub.execute_input": "2024-05-08T19:19:02.586438Z",
     "iopub.status.busy": "2024-05-08T19:19:02.585564Z",
     "iopub.status.idle": "2024-05-08T19:19:15.830347Z",
     "shell.execute_reply": "2024-05-08T19:19:15.829084Z"
    },
    "papermill": {
     "duration": 13.29349,
     "end_time": "2024-05-08T19:19:15.835911",
     "exception": false,
     "start_time": "2024-05-08T19:19:02.542421",
     "status": "completed"
    },
    "tags": []
   },
   "outputs": [],
   "source": [
    "# Make visualization to easy get insight"
   ]
  },
  {
   "cell_type": "markdown",
   "id": "b5e3995b",
   "metadata": {
    "papermill": {
     "duration": 0.046689,
     "end_time": "2024-05-08T19:19:15.930253",
     "exception": false,
     "start_time": "2024-05-08T19:19:15.883564",
     "status": "completed"
    },
    "tags": []
   },
   "source": [
    "> ### <mark>Your analsys and exploration here </mark>\n",
    "\n",
    "Example usage\n",
    "- There is `no Correlation` for any variable with time ( `duration sec /minutes`)\n",
    "\n",
    "\n",
    "\n",
    "\n",
    "- \n",
    "\n",
    "\n",
    "\n",
    "\n",
    "- \n",
    "\n",
    "\n"
   ]
  },
  {
   "cell_type": "markdown",
   "id": "97fea6e5",
   "metadata": {
    "papermill": {
     "duration": 0.044683,
     "end_time": "2024-05-08T19:19:16.022736",
     "exception": false,
     "start_time": "2024-05-08T19:19:15.978053",
     "status": "completed"
    },
    "tags": []
   },
   "source": [
    "# <a id=\"15\">  15 ) What is the  Correlation between data_stat variables in the dataset?</a>\n"
   ]
  },
  {
   "cell_type": "code",
   "execution_count": null,
   "id": "76e8afc4",
   "metadata": {
    "execution": {
     "iopub.execute_input": "2024-05-08T19:19:16.114795Z",
     "iopub.status.busy": "2024-05-08T19:19:16.114016Z",
     "iopub.status.idle": "2024-05-08T19:19:16.553808Z",
     "shell.execute_reply": "2024-05-08T19:19:16.552337Z"
    },
    "papermill": {
     "duration": 0.489697,
     "end_time": "2024-05-08T19:19:16.557573",
     "exception": false,
     "start_time": "2024-05-08T19:19:16.067876",
     "status": "completed"
    },
    "tags": []
   },
   "outputs": [
    {
     "data": {
      "text/plain": [
       "'\"\"This time I will use heatmap  to explain how Correlation between data_stat variables\\n\\nin the dataset in more clear and specific percentage'"
      ]
     },
     "execution_count": 58,
     "metadata": {},
     "output_type": "execute_result"
    }
   ],
   "source": [
    "\n",
    "\"\"\"\"\"This time I will use heatmap  to explain how Correlation between data_stat variables\n",
    "\n",
    "in the dataset in more clear and specific percentage\"\"\"\n",
    "\n",
    "# Make visualization to easy get insight\n",
    "\n"
   ]
  },
  {
   "cell_type": "markdown",
   "id": "33301163",
   "metadata": {
    "papermill": {
     "duration": 0.047459,
     "end_time": "2024-05-08T19:19:16.653147",
     "exception": false,
     "start_time": "2024-05-08T19:19:16.605688",
     "status": "completed"
    },
    "tags": []
   },
   "source": [
    "> ### <mark>The above charts show how Correlation between specific numeric variables in the dataset using heatmap plots  </mark>\n",
    "\n",
    "\n",
    "\n",
    "**Actually the `heat map`  display the above ideas in clear percentages**\n",
    "\n",
    "\n",
    "\n",
    "- There is `no Correlation` for any variable with time ( `duration sec /minutes`)\n",
    "\n",
    "\n",
    "\n",
    "\n",
    "- There is a `negative  Correlation` between  member_birth_year  and age which normal.\n",
    "\n",
    "\n",
    "\n",
    "\n",
    "- There is `no significant Correlation` for any variable with `bike_id `\n",
    "\n"
   ]
  },
  {
   "cell_type": "markdown",
   "id": "c7d52286",
   "metadata": {
    "papermill": {
     "duration": 0.047263,
     "end_time": "2024-05-08T19:19:16.750071",
     "exception": false,
     "start_time": "2024-05-08T19:19:16.702808",
     "status": "completed"
    },
    "tags": []
   },
   "source": [
    "# <p style=\"border-radius:15px;border-style:solid;border-color:lightblue;border-width:3px;background-color:lightblue;padding: 20px;font-family:Verdana;color:#D81F26;font-size:30px;text-align: center;\">Conclusions</p>\n",
    "# <a id=\"1100\"> Conclusions </a>\n",
    "\n",
    "#example\n",
    "- Most users were Male.\n",
    "\n",
    "\n",
    "- \n",
    "\n",
    "- \n",
    "\n",
    "- \n",
    "\n",
    "\n",
    "\n",
    "## limitation \n",
    "example\n",
    "- We got missing data which we fix some of them .\n",
    "\n",
    "- \n"
   ]
  }
 ],
 "metadata": {
  "kaggle": {
   "accelerator": "none",
   "dataSources": [
    {
     "datasetId": 2328822,
     "sourceId": 4414579,
     "sourceType": "datasetVersion"
    }
   ],
   "dockerImageVersionId": 30203,
   "isGpuEnabled": false,
   "isInternetEnabled": true,
   "language": "python",
   "sourceType": "notebook"
  },
  "kernelspec": {
   "display_name": "Python 3",
   "language": "python",
   "name": "python3"
  },
  "language_info": {
   "codemirror_mode": {
    "name": "ipython",
    "version": 3
   },
   "file_extension": ".py",
   "mimetype": "text/x-python",
   "name": "python",
   "nbconvert_exporter": "python",
   "pygments_lexer": "ipython3",
   "version": "3.12.7"
  },
  "papermill": {
   "default_parameters": {},
   "duration": 42.862916,
   "end_time": "2024-05-08T19:19:17.815863",
   "environment_variables": {},
   "exception": null,
   "input_path": "__notebook__.ipynb",
   "output_path": "__notebook__.ipynb",
   "parameters": {},
   "start_time": "2024-05-08T19:18:34.952947",
   "version": "2.3.4"
  }
 },
 "nbformat": 4,
 "nbformat_minor": 5
}
